{
 "cells": [
  {
   "cell_type": "code",
   "execution_count": 28,
   "id": "761378ce-42ce-44a6-87d1-ef082dc7e9b5",
   "metadata": {},
   "outputs": [],
   "source": [
    "import pandas as pd\n",
    "import matplotlib.pyplot as plt\n",
    "import seaborn as sns\n",
    "\n",
    "### Reading the csv file\n",
    "data = pd.read_csv(\"adult_income.csv\")"
   ]
  },
  {
   "cell_type": "code",
   "execution_count": 29,
   "id": "5dfc80eb-b887-476e-88c3-c9de0fa29b70",
   "metadata": {},
   "outputs": [
    {
     "data": {
      "text/html": [
       "<div>\n",
       "<style scoped>\n",
       "    .dataframe tbody tr th:only-of-type {\n",
       "        vertical-align: middle;\n",
       "    }\n",
       "\n",
       "    .dataframe tbody tr th {\n",
       "        vertical-align: top;\n",
       "    }\n",
       "\n",
       "    .dataframe thead th {\n",
       "        text-align: right;\n",
       "    }\n",
       "</style>\n",
       "<table border=\"1\" class=\"dataframe\">\n",
       "  <thead>\n",
       "    <tr style=\"text-align: right;\">\n",
       "      <th></th>\n",
       "      <th>age</th>\n",
       "      <th>workclass</th>\n",
       "      <th>fnlwgt</th>\n",
       "      <th>education</th>\n",
       "      <th>education.num</th>\n",
       "      <th>marital.status</th>\n",
       "      <th>occupation</th>\n",
       "      <th>relationship</th>\n",
       "      <th>race</th>\n",
       "      <th>sex</th>\n",
       "      <th>capital.gain</th>\n",
       "      <th>capital.loss</th>\n",
       "      <th>hours.per.week</th>\n",
       "      <th>native.country</th>\n",
       "      <th>income</th>\n",
       "    </tr>\n",
       "  </thead>\n",
       "  <tbody>\n",
       "    <tr>\n",
       "      <th>0</th>\n",
       "      <td>90</td>\n",
       "      <td>?</td>\n",
       "      <td>77053</td>\n",
       "      <td>HS-grad</td>\n",
       "      <td>9</td>\n",
       "      <td>Widowed</td>\n",
       "      <td>?</td>\n",
       "      <td>Not-in-family</td>\n",
       "      <td>White</td>\n",
       "      <td>Female</td>\n",
       "      <td>0</td>\n",
       "      <td>4356</td>\n",
       "      <td>40</td>\n",
       "      <td>United-States</td>\n",
       "      <td>&lt;=50K</td>\n",
       "    </tr>\n",
       "    <tr>\n",
       "      <th>1</th>\n",
       "      <td>82</td>\n",
       "      <td>Private</td>\n",
       "      <td>132870</td>\n",
       "      <td>HS-grad</td>\n",
       "      <td>9</td>\n",
       "      <td>Widowed</td>\n",
       "      <td>Exec-managerial</td>\n",
       "      <td>Not-in-family</td>\n",
       "      <td>White</td>\n",
       "      <td>Female</td>\n",
       "      <td>0</td>\n",
       "      <td>4356</td>\n",
       "      <td>18</td>\n",
       "      <td>United-States</td>\n",
       "      <td>&lt;=50K</td>\n",
       "    </tr>\n",
       "    <tr>\n",
       "      <th>2</th>\n",
       "      <td>66</td>\n",
       "      <td>?</td>\n",
       "      <td>186061</td>\n",
       "      <td>Some-college</td>\n",
       "      <td>10</td>\n",
       "      <td>Widowed</td>\n",
       "      <td>?</td>\n",
       "      <td>Unmarried</td>\n",
       "      <td>Black</td>\n",
       "      <td>Female</td>\n",
       "      <td>0</td>\n",
       "      <td>4356</td>\n",
       "      <td>40</td>\n",
       "      <td>United-States</td>\n",
       "      <td>&lt;=50K</td>\n",
       "    </tr>\n",
       "    <tr>\n",
       "      <th>3</th>\n",
       "      <td>54</td>\n",
       "      <td>Private</td>\n",
       "      <td>140359</td>\n",
       "      <td>7th-8th</td>\n",
       "      <td>4</td>\n",
       "      <td>Divorced</td>\n",
       "      <td>Machine-op-inspct</td>\n",
       "      <td>Unmarried</td>\n",
       "      <td>White</td>\n",
       "      <td>Female</td>\n",
       "      <td>0</td>\n",
       "      <td>3900</td>\n",
       "      <td>40</td>\n",
       "      <td>United-States</td>\n",
       "      <td>&lt;=50K</td>\n",
       "    </tr>\n",
       "    <tr>\n",
       "      <th>4</th>\n",
       "      <td>41</td>\n",
       "      <td>Private</td>\n",
       "      <td>264663</td>\n",
       "      <td>Some-college</td>\n",
       "      <td>10</td>\n",
       "      <td>Separated</td>\n",
       "      <td>Prof-specialty</td>\n",
       "      <td>Own-child</td>\n",
       "      <td>White</td>\n",
       "      <td>Female</td>\n",
       "      <td>0</td>\n",
       "      <td>3900</td>\n",
       "      <td>40</td>\n",
       "      <td>United-States</td>\n",
       "      <td>&lt;=50K</td>\n",
       "    </tr>\n",
       "  </tbody>\n",
       "</table>\n",
       "</div>"
      ],
      "text/plain": [
       "   age workclass  fnlwgt     education  education.num marital.status  \\\n",
       "0   90         ?   77053       HS-grad              9        Widowed   \n",
       "1   82   Private  132870       HS-grad              9        Widowed   \n",
       "2   66         ?  186061  Some-college             10        Widowed   \n",
       "3   54   Private  140359       7th-8th              4       Divorced   \n",
       "4   41   Private  264663  Some-college             10      Separated   \n",
       "\n",
       "          occupation   relationship   race     sex  capital.gain  \\\n",
       "0                  ?  Not-in-family  White  Female             0   \n",
       "1    Exec-managerial  Not-in-family  White  Female             0   \n",
       "2                  ?      Unmarried  Black  Female             0   \n",
       "3  Machine-op-inspct      Unmarried  White  Female             0   \n",
       "4     Prof-specialty      Own-child  White  Female             0   \n",
       "\n",
       "   capital.loss  hours.per.week native.country income  \n",
       "0          4356              40  United-States  <=50K  \n",
       "1          4356              18  United-States  <=50K  \n",
       "2          4356              40  United-States  <=50K  \n",
       "3          3900              40  United-States  <=50K  \n",
       "4          3900              40  United-States  <=50K  "
      ]
     },
     "execution_count": 29,
     "metadata": {},
     "output_type": "execute_result"
    }
   ],
   "source": [
    "data.head()"
   ]
  },
  {
   "cell_type": "code",
   "execution_count": 30,
   "id": "bef13719-4d75-4ee8-a43c-94dbf372bf66",
   "metadata": {},
   "outputs": [
    {
     "name": "stdout",
     "output_type": "stream",
     "text": [
      "                nan_count  question_mark_count  total_missing\n",
      "occupation              0                 1843           1843\n",
      "workclass               0                 1836           1836\n",
      "native.country          0                  583            583\n",
      "age                     0                    0              0\n",
      "fnlwgt                  0                    0              0\n",
      "education               0                    0              0\n",
      "education.num           0                    0              0\n",
      "marital.status          0                    0              0\n",
      "relationship            0                    0              0\n",
      "race                    0                    0              0\n",
      "sex                     0                    0              0\n",
      "capital.gain            0                    0              0\n",
      "capital.loss            0                    0              0\n",
      "hours.per.week          0                    0              0\n",
      "income                  0                    0              0\n"
     ]
    }
   ],
   "source": [
    "########## Trying to look at the condition of the data ##########\n",
    "# Count of NaNs\n",
    "missing_counts = data.isnull().sum()\n",
    "\n",
    "# Count of \"?\" as missing indicator\n",
    "question_mark_counts = (data == '?').sum()\n",
    "\n",
    "# Combine into a DataFrame\n",
    "missing_summary = pd.DataFrame({\n",
    "    'nan_count': missing_counts,\n",
    "    'question_mark_count': question_mark_counts\n",
    "})\n",
    "\n",
    "# Sort by total missing (NaN + \"?\")\n",
    "missing_summary['total_missing'] = missing_summary['nan_count'] + missing_summary['question_mark_count']\n",
    "missing_summary = missing_summary.sort_values(by='total_missing', ascending=False)\n",
    "\n",
    "print(missing_summary)"
   ]
  },
  {
   "cell_type": "code",
   "execution_count": 31,
   "id": "400de0ee-ff50-43dd-a651-430e38f9b568",
   "metadata": {},
   "outputs": [
    {
     "name": "stdout",
     "output_type": "stream",
     "text": [
      "occupation: ['?' 'Exec-managerial' 'Machine-op-inspct' 'Prof-specialty'\n",
      " 'Other-service' 'Adm-clerical' 'Craft-repair' 'Transport-moving'\n",
      " 'Handlers-cleaners' 'Sales' 'Farming-fishing' 'Tech-support'\n",
      " 'Protective-serv' 'Armed-Forces' 'Priv-house-serv']\n"
     ]
    }
   ],
   "source": [
    "### Checking all Data columns uniques values\n",
    "print(\"occupation:\", data['occupation'].unique())"
   ]
  },
  {
   "cell_type": "code",
   "execution_count": 32,
   "id": "af9e9549-e360-42ce-87bc-378db7a9ef50",
   "metadata": {},
   "outputs": [
    {
     "name": "stdout",
     "output_type": "stream",
     "text": [
      "workclass: ['?' 'Private' 'State-gov' 'Federal-gov' 'Self-emp-not-inc' 'Self-emp-inc'\n",
      " 'Local-gov' 'Without-pay' 'Never-worked']\n"
     ]
    }
   ],
   "source": [
    "print(\"workclass:\", data['workclass'].unique())"
   ]
  },
  {
   "cell_type": "code",
   "execution_count": 33,
   "id": "5b66f74e-1ffd-48d2-a3f9-8f0bcb40dcf2",
   "metadata": {},
   "outputs": [
    {
     "name": "stdout",
     "output_type": "stream",
     "text": [
      "education: ['HS-grad' 'Some-college' '7th-8th' '10th' 'Doctorate' 'Prof-school'\n",
      " 'Bachelors' 'Masters' '11th' 'Assoc-acdm' 'Assoc-voc' '1st-4th' '5th-6th'\n",
      " '12th' '9th' 'Preschool']\n"
     ]
    }
   ],
   "source": [
    "print(\"education:\", data['education'].unique())"
   ]
  },
  {
   "cell_type": "code",
   "execution_count": 34,
   "id": "20e0f509-42a1-4273-a7b5-5ac0f4de86ab",
   "metadata": {},
   "outputs": [
    {
     "name": "stdout",
     "output_type": "stream",
     "text": [
      "education.num': [ 9 10  4  6 16 15 13 14  7 12 11  2  3  8  5  1]\n"
     ]
    }
   ],
   "source": [
    "print(\"education.num':\", data['education.num'].unique())"
   ]
  },
  {
   "cell_type": "code",
   "execution_count": 35,
   "id": "6910d87f-12e5-4585-b2d6-e516aee6e265",
   "metadata": {},
   "outputs": [
    {
     "name": "stdout",
     "output_type": "stream",
     "text": [
      "relationship: ['Not-in-family' 'Unmarried' 'Own-child' 'Other-relative' 'Husband' 'Wife']\n"
     ]
    }
   ],
   "source": [
    "print(\"relationship:\", data['relationship'].unique())"
   ]
  },
  {
   "cell_type": "code",
   "execution_count": 36,
   "id": "094323c2-c57c-473c-891c-aafbe568fef9",
   "metadata": {},
   "outputs": [
    {
     "name": "stdout",
     "output_type": "stream",
     "text": [
      "marital.status: ['Widowed' 'Divorced' 'Separated' 'Never-married' 'Married-civ-spouse'\n",
      " 'Married-spouse-absent' 'Married-AF-spouse']\n"
     ]
    }
   ],
   "source": [
    "print(\"marital.status:\", data['marital.status'].unique())"
   ]
  },
  {
   "cell_type": "code",
   "execution_count": 37,
   "id": "9b9d428a-ff81-4147-8f3c-a5747a4683fd",
   "metadata": {},
   "outputs": [
    {
     "name": "stdout",
     "output_type": "stream",
     "text": [
      "race: ['White' 'Black' 'Asian-Pac-Islander' 'Other' 'Amer-Indian-Eskimo']\n"
     ]
    }
   ],
   "source": [
    "print(\"race:\", data['race'].unique())"
   ]
  },
  {
   "cell_type": "code",
   "execution_count": 38,
   "id": "fd995498-22ff-4796-98b7-d1dbd7ced64e",
   "metadata": {},
   "outputs": [
    {
     "name": "stdout",
     "output_type": "stream",
     "text": [
      "sex: ['Female' 'Male']\n"
     ]
    }
   ],
   "source": [
    "print(\"sex:\", data['sex'].unique())"
   ]
  },
  {
   "cell_type": "code",
   "execution_count": 39,
   "id": "d3b044d7-fed8-4f2e-b79f-359affc91542",
   "metadata": {},
   "outputs": [
    {
     "name": "stdout",
     "output_type": "stream",
     "text": [
      "capital.gain: [    0 99999 41310 34095 27828 25236 25124 22040 20051 18481 15831 15024\n",
      " 15020 14344 14084 13550 11678 10605 10566 10520  9562  9386  8614  7978\n",
      "  7896  7688  7443  7430  7298  6849  6767  6723  6514  6497  6418  6360\n",
      "  6097  5721  5556  5455  5178  5060  5013  4934  4931  4865  4787  4687\n",
      "  4650  4508  4416  4386  4101  4064  3942  3908  3887  3818  3781  3674\n",
      "  3471  3464  3456  3432  3418  3411  3325  3273  3137  3103  2993  2977\n",
      "  2964  2961  2936  2907  2885  2829  2653  2635  2597  2580  2538  2463\n",
      "  2414  2407  2387  2354  2346  2329  2290  2228  2202  2176  2174  2105\n",
      "  2062  2050  2036  2009  1848  1831  1797  1639  1506  1471  1455  1424\n",
      "  1409  1173  1151  1111  1086  1055   991   914   594   401   114]\n"
     ]
    }
   ],
   "source": [
    "print(\"capital.gain:\", data['capital.gain'].unique())"
   ]
  },
  {
   "cell_type": "code",
   "execution_count": 40,
   "id": "287e7005-19fe-4027-bba6-139bacc5546e",
   "metadata": {},
   "outputs": [
    {
     "name": "stdout",
     "output_type": "stream",
     "text": [
      "capital.loss: [4356 3900 3770 3683 3004 2824 2754 2603 2559 2547 2489 2472 2467 2457\n",
      " 2444 2415 2392 2377 2352 2339 2282 2267 2258 2246 2238 2231 2206 2205\n",
      " 2201 2179 2174 2163 2149 2129 2080 2057 2051 2042 2002 2001 1980 1977\n",
      " 1974 1944 1902 1887 1876 1848 1844 1825 1816 1762 1755 1741 1740 1735\n",
      " 1726 1721 1719 1672 1669 1668 1651 1648 1628 1617 1602 1594 1590 1579\n",
      " 1573 1564 1539 1504 1485 1411 1408 1380 1340 1258 1138 1092  974  880\n",
      "  810  653  625  419  323  213  155    0]\n"
     ]
    }
   ],
   "source": [
    "print(\"capital.loss:\", data['capital.loss'].unique())"
   ]
  },
  {
   "cell_type": "code",
   "execution_count": 41,
   "id": "ce263870-2585-4b98-a131-92c5a2e1581c",
   "metadata": {},
   "outputs": [
    {
     "name": "stdout",
     "output_type": "stream",
     "text": [
      "hours.per.week: [40 18 45 20 60 35 55 76 50 42 25 32 90 48 15 70 52 72 39  6 65 12 80 67\n",
      " 99 30 75 26 36 10 84 38 62 44  8 28 59  5 24 57 34 37 46 56 41 98 43 63\n",
      "  1 47 68 54  2 16  9  3  4 33 23 22 64 51 19 58 53 96 66 21  7 13 27 11\n",
      " 14 77 31 78 49 17 85 87 88 73 89 97 94 29 82 86 91 81 92 61 74 95]\n"
     ]
    }
   ],
   "source": [
    "print(\"hours.per.week:\", data['hours.per.week'].unique())"
   ]
  },
  {
   "cell_type": "code",
   "execution_count": 42,
   "id": "ab7252c8-2e91-48d3-a69b-d6e46eca5038",
   "metadata": {},
   "outputs": [
    {
     "name": "stdout",
     "output_type": "stream",
     "text": [
      "native.country: ['United-States' '?' 'Mexico' 'Greece' 'Vietnam' 'China' 'Taiwan' 'India'\n",
      " 'Philippines' 'Trinadad&Tobago' 'Canada' 'South' 'Holand-Netherlands'\n",
      " 'Puerto-Rico' 'Poland' 'Iran' 'England' 'Germany' 'Italy' 'Japan' 'Hong'\n",
      " 'Honduras' 'Cuba' 'Ireland' 'Cambodia' 'Peru' 'Nicaragua'\n",
      " 'Dominican-Republic' 'Haiti' 'El-Salvador' 'Hungary' 'Columbia'\n",
      " 'Guatemala' 'Jamaica' 'Ecuador' 'France' 'Yugoslavia' 'Scotland'\n",
      " 'Portugal' 'Laos' 'Thailand' 'Outlying-US(Guam-USVI-etc)']\n"
     ]
    }
   ],
   "source": [
    "print(\"native.country:\", data['native.country'].unique())"
   ]
  },
  {
   "cell_type": "code",
   "execution_count": 43,
   "id": "e6ba6a7c-e73f-4758-9487-68d79fbd4568",
   "metadata": {},
   "outputs": [
    {
     "name": "stdout",
     "output_type": "stream",
     "text": [
      "income: ['<=50K' '>50K']\n"
     ]
    }
   ],
   "source": [
    "print(\"income:\", data['income'].unique())"
   ]
  },
  {
   "cell_type": "code",
   "execution_count": 44,
   "id": "f73f65bb-1a64-4a25-ab33-7fa0937859cc",
   "metadata": {},
   "outputs": [
    {
     "name": "stdout",
     "output_type": "stream",
     "text": [
      "age: [90 82 66 54 41 34 38 74 68 45 52 32 51 46 57 22 37 29 61 21 33 49 23 59\n",
      " 60 63 53 44 43 71 48 73 67 40 50 42 39 55 47 31 58 62 36 72 78 83 26 70\n",
      " 27 35 81 65 25 28 56 69 20 30 24 64 75 19 77 80 18 17 76 79 88 84 85 86\n",
      " 87]\n"
     ]
    }
   ],
   "source": [
    "print(\"age:\", data['age'].unique())"
   ]
  },
  {
   "cell_type": "code",
   "execution_count": 45,
   "id": "fbe32c57-c56c-4800-a9af-2a696c2c0ee0",
   "metadata": {},
   "outputs": [
    {
     "name": "stdout",
     "output_type": "stream",
     "text": [
      "       age         workclass  fnlwgt     education  education.num  \\\n",
      "8453    25           Private  308144     Bachelors             13   \n",
      "8645    90           Private   52386  Some-college             10   \n",
      "12202   21           Private  250051  Some-college             10   \n",
      "14346   20           Private  107658  Some-college             10   \n",
      "15603   25           Private  195994       1st-4th              2   \n",
      "17344   21           Private  243368     Preschool              1   \n",
      "19067   46           Private  173243       HS-grad              9   \n",
      "20388   30           Private  144593       HS-grad              9   \n",
      "20507   19           Private   97261       HS-grad              9   \n",
      "22783   19           Private  138153  Some-college             10   \n",
      "22934   19           Private  146679  Some-college             10   \n",
      "23276   49           Private   31267       7th-8th              4   \n",
      "23660   25           Private  195994       1st-4th              2   \n",
      "23720   44           Private  367749     Bachelors             13   \n",
      "23827   49  Self-emp-not-inc   43479  Some-college             10   \n",
      "26738   23           Private  240137       5th-6th              3   \n",
      "27133   28           Private  274679       Masters             14   \n",
      "28796   27           Private  255582       HS-grad              9   \n",
      "29051   42           Private  204235  Some-college             10   \n",
      "29334   39           Private   30916       HS-grad              9   \n",
      "29604   38           Private  207202       HS-grad              9   \n",
      "31060   46           Private  133616  Some-college             10   \n",
      "32065   19           Private  251579  Some-college             10   \n",
      "32419   35           Private  379959       HS-grad              9   \n",
      "\n",
      "           marital.status         occupation   relationship  \\\n",
      "8453        Never-married       Craft-repair  Not-in-family   \n",
      "8645        Never-married      Other-service  Not-in-family   \n",
      "12202       Never-married     Prof-specialty      Own-child   \n",
      "14346       Never-married       Tech-support  Not-in-family   \n",
      "15603       Never-married    Priv-house-serv  Not-in-family   \n",
      "17344       Never-married    Farming-fishing  Not-in-family   \n",
      "19067  Married-civ-spouse       Craft-repair        Husband   \n",
      "20388       Never-married      Other-service  Not-in-family   \n",
      "20507       Never-married    Farming-fishing  Not-in-family   \n",
      "22783       Never-married       Adm-clerical      Own-child   \n",
      "22934       Never-married    Exec-managerial      Own-child   \n",
      "23276  Married-civ-spouse       Craft-repair        Husband   \n",
      "23660       Never-married    Priv-house-serv  Not-in-family   \n",
      "23720       Never-married     Prof-specialty  Not-in-family   \n",
      "23827  Married-civ-spouse       Craft-repair        Husband   \n",
      "26738       Never-married  Handlers-cleaners  Not-in-family   \n",
      "27133       Never-married     Prof-specialty  Not-in-family   \n",
      "28796       Never-married  Machine-op-inspct  Not-in-family   \n",
      "29051  Married-civ-spouse     Prof-specialty        Husband   \n",
      "29334  Married-civ-spouse       Craft-repair        Husband   \n",
      "29604  Married-civ-spouse  Machine-op-inspct        Husband   \n",
      "31060            Divorced       Adm-clerical      Unmarried   \n",
      "32065       Never-married      Other-service      Own-child   \n",
      "32419            Divorced      Other-service  Not-in-family   \n",
      "\n",
      "                     race     sex  capital.gain  capital.loss  hours.per.week  \\\n",
      "8453                White    Male             0             0              40   \n",
      "8645   Asian-Pac-Islander    Male             0             0              35   \n",
      "12202               White  Female             0             0              10   \n",
      "14346               White  Female             0             0              10   \n",
      "15603               White  Female             0             0              40   \n",
      "17344               White    Male             0             0              50   \n",
      "19067               White    Male             0             0              40   \n",
      "20388               Black    Male             0             0              40   \n",
      "20507               White    Male             0             0              40   \n",
      "22783               White  Female             0             0              10   \n",
      "22934               Black    Male             0             0              30   \n",
      "23276               White    Male             0             0              40   \n",
      "23660               White  Female             0             0              40   \n",
      "23720               White  Female             0             0              45   \n",
      "23827               White    Male             0             0              40   \n",
      "26738               White    Male             0             0              55   \n",
      "27133               White    Male             0             0              50   \n",
      "28796               White  Female             0             0              40   \n",
      "29051               White    Male             0             0              40   \n",
      "29334               White    Male             0             0              40   \n",
      "29604               White    Male             0             0              48   \n",
      "31060               White  Female             0             0              40   \n",
      "32065               White    Male             0             0              14   \n",
      "32419               White  Female             0             0              40   \n",
      "\n",
      "      native.country income  \n",
      "8453          Mexico  <=50K  \n",
      "8645   United-States  <=50K  \n",
      "12202  United-States  <=50K  \n",
      "14346  United-States  <=50K  \n",
      "15603      Guatemala  <=50K  \n",
      "17344         Mexico  <=50K  \n",
      "19067  United-States  <=50K  \n",
      "20388              ?  <=50K  \n",
      "20507  United-States  <=50K  \n",
      "22783  United-States  <=50K  \n",
      "22934  United-States  <=50K  \n",
      "23276  United-States  <=50K  \n",
      "23660      Guatemala  <=50K  \n",
      "23720         Mexico  <=50K  \n",
      "23827  United-States  <=50K  \n",
      "26738         Mexico  <=50K  \n",
      "27133  United-States  <=50K  \n",
      "28796  United-States  <=50K  \n",
      "29051  United-States   >50K  \n",
      "29334  United-States  <=50K  \n",
      "29604  United-States   >50K  \n",
      "31060  United-States  <=50K  \n",
      "32065  United-States  <=50K  \n",
      "32419  United-States  <=50K  \n",
      "Number of duplicate rows: 24\n"
     ]
    }
   ],
   "source": [
    "#### Finding duplicate rows\n",
    "duplicates = data[data.duplicated()]\n",
    "print(duplicates)\n",
    "num_duplicates = data.duplicated().sum()\n",
    "print(f\"Number of duplicate rows: {num_duplicates}\")"
   ]
  },
  {
   "cell_type": "code",
   "execution_count": 46,
   "id": "7715560d-1654-4a80-a36b-f26ed0098fa5",
   "metadata": {},
   "outputs": [
    {
     "data": {
      "image/png": "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",
      "text/plain": [
       "<Figure size 600x400 with 1 Axes>"
      ]
     },
     "metadata": {},
     "output_type": "display_data"
    },
    {
     "data": {
      "image/png": "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",
      "text/plain": [
       "<Figure size 600x400 with 1 Axes>"
      ]
     },
     "metadata": {},
     "output_type": "display_data"
    },
    {
     "data": {
      "image/png": "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",
      "text/plain": [
       "<Figure size 600x400 with 1 Axes>"
      ]
     },
     "metadata": {},
     "output_type": "display_data"
    },
    {
     "data": {
      "image/png": "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",
      "text/plain": [
       "<Figure size 600x400 with 1 Axes>"
      ]
     },
     "metadata": {},
     "output_type": "display_data"
    },
    {
     "data": {
      "image/png": "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",
      "text/plain": [
       "<Figure size 600x400 with 1 Axes>"
      ]
     },
     "metadata": {},
     "output_type": "display_data"
    },
    {
     "data": {
      "image/png": "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",
      "text/plain": [
       "<Figure size 600x400 with 1 Axes>"
      ]
     },
     "metadata": {},
     "output_type": "display_data"
    }
   ],
   "source": [
    "# List of typical integer variables in Adult dataset\n",
    "int_columns = ['age', 'fnlwgt', 'education.num', 'capital.gain', 'capital.loss', 'hours.per.week']\n",
    "\n",
    "# Check which columns actually exist in your dataframe\n",
    "existing_int_columns = [col for col in int_columns if col in data.columns]\n",
    "\n",
    "# Plot each boxplot separately\n",
    "for col in existing_int_columns:\n",
    "    plt.figure(figsize=(6, 4))\n",
    "    sns.boxplot(y=data[col])\n",
    "    plt.title(f'Boxplot of {col}')\n",
    "    plt.ylabel(col)\n",
    "    plt.show()"
   ]
  },
  {
   "cell_type": "code",
   "execution_count": 47,
   "id": "f9b0719a-ac3a-4796-9e03-3c1bc016efd4",
   "metadata": {},
   "outputs": [],
   "source": [
    "########## Pre-processing steps starts from here ##########\n",
    "\n",
    "### 1. Removing duplicate rows\n",
    "df_adult_income = data.drop_duplicates()\n"
   ]
  },
  {
   "cell_type": "code",
   "execution_count": 48,
   "id": "77097745-a04a-417d-ad3d-0d7a5ecf439f",
   "metadata": {},
   "outputs": [],
   "source": [
    "### 2. Renaming the column name 'fnlwgt' to a better name for clear understanding \n",
    "df_adult_income = df_adult_income.rename(columns={'fnlwgt': 'population_weight'})"
   ]
  },
  {
   "cell_type": "code",
   "execution_count": 49,
   "id": "de530bbf-9373-461d-b696-8d5ab589871d",
   "metadata": {},
   "outputs": [],
   "source": [
    "### 3. Renaming the column name 'education.num' to a better name for clear understanding \n",
    "df_adult_income = df_adult_income.rename(columns={'education.num': 'years.of.education'})"
   ]
  },
  {
   "cell_type": "code",
   "execution_count": 50,
   "id": "ec9f679b-b936-4460-9317-24982a04e782",
   "metadata": {},
   "outputs": [],
   "source": [
    "### 4. Completing the country names for better understanding \n",
    "df_adult_income['native.country'] = df_adult_income['native.country'].replace('South', 'South-Korea')\n",
    "df_adult_income['native.country'] = df_adult_income['native.country'].replace('Hong', 'Hong-Kong')"
   ]
  },
  {
   "cell_type": "code",
   "execution_count": 51,
   "id": "4be62510-83c1-4778-b6aa-6daa957e0ed6",
   "metadata": {},
   "outputs": [],
   "source": [
    "### 5. Randomly modifying the column 'sex' values and then trying to fix them. \n",
    "sample_indices = df_adult_income.sample(n=2000, random_state=42).index\n",
    "df_adult_income.loc[sample_indices, 'sex'] = df_adult_income.loc[sample_indices, 'sex'].replace({'Male': 'M', 'Female': 'F'})\n",
    "df_adult_income['sex'] = df_adult_income['sex'].replace({'M': 'Male', 'F': 'Female'})\n"
   ]
  },
  {
   "cell_type": "code",
   "execution_count": 53,
   "id": "2d8c7c47-b873-4116-8d39-9523cba9fff2",
   "metadata": {},
   "outputs": [
    {
     "name": "stdout",
     "output_type": "stream",
     "text": [
      "Number of rows with country = '?': 582\n"
     ]
    }
   ],
   "source": [
    "### 6. Removing country rows where values are null\n",
    "# Count rows where country == '?'\n",
    "num_question_mark = (df_adult_income['native.country'] == '?').sum()\n",
    "print(f\"Number of rows with country = '?': {num_question_mark}\")"
   ]
  },
  {
   "cell_type": "code",
   "execution_count": 56,
   "id": "bfc128a1-f9fa-43c7-8337-d285fbfac9ef",
   "metadata": {},
   "outputs": [
    {
     "name": "stdout",
     "output_type": "stream",
     "text": [
      "Shape after removing '?': (31955, 15)\n"
     ]
    }
   ],
   "source": [
    "### 7. Keep only rows where country is not '?'\n",
    "df_adult_income= df_adult_income[df_adult_income['native.country'] != '?']\n",
    "print(f\"Shape after removing '?': {df_adult_income.shape}\")"
   ]
  },
  {
   "cell_type": "code",
<<<<<<< Updated upstream
=======
   "execution_count": 37,
   "id": "f356f3fe-f41a-48c5-bed1-c124235935d4",
   "metadata": {},
   "outputs": [],
   "source": [
    "### 8. Create and add a new column capital_diff as the difference between capital-gain and capital-loss\n",
    "df_adult_income['capital_diff'] = df_adult_income['capital.gain'] - df_adult_income['capital.loss']"
   ]
  },
  {
   "cell_type": "code",
   "execution_count": 42,
   "id": "73b890ef-5f0c-4426-9a34-fc3cf7748756",
   "metadata": {},
   "outputs": [
    {
     "name": "stdout",
     "output_type": "stream",
     "text": [
      "   age workclass  population_weight     education  years.of.education  \\\n",
      "0   90         ?              77053       HS-grad                   9   \n",
      "1   82   Private             132870       HS-grad                   9   \n",
      "2   66         ?             186061  Some-college                  10   \n",
      "3   54   Private             140359       7th-8th                   4   \n",
      "4   41   Private             264663  Some-college                  10   \n",
      "\n",
      "  marital.status         occupation   relationship   race     sex  ...  \\\n",
      "0        Widowed                  ?  Not-in-family  White  Female  ...   \n",
      "1        Widowed    Exec-managerial  Not-in-family  White  Female  ...   \n",
      "2        Widowed                  ?      Unmarried  Black  Female  ...   \n",
      "3       Divorced  Machine-op-inspct      Unmarried  White  Female  ...   \n",
      "4      Separated     Prof-specialty      Own-child  White  Female  ...   \n",
      "\n",
      "   native.country  income  capital_diff education_encoded  \\\n",
      "0   United-States   <=50K         -4356                11   \n",
      "1   United-States   <=50K         -4356                11   \n",
      "2   United-States   <=50K         -4356                15   \n",
      "3   United-States   <=50K         -3900                 5   \n",
      "4   United-States   <=50K         -3900                15   \n",
      "\n",
      "  marital.status_encoded  relationship_encoded  race_encoded  sex_encoded  \\\n",
      "0                      6                     1             4            0   \n",
      "1                      6                     1             4            0   \n",
      "2                      6                     4             2            0   \n",
      "3                      0                     4             4            0   \n",
      "4                      5                     3             4            0   \n",
      "\n",
      "   native.country_encoded  income_encoded  \n",
      "0                      38               0  \n",
      "1                      38               0  \n",
      "2                      38               0  \n",
      "3                      38               0  \n",
      "4                      38               0  \n",
      "\n",
      "[5 rows x 23 columns]\n"
     ]
    }
   ],
   "source": [
    "### 9. Encoding columns, skipping workclass and occupation\n",
    "cols_to_encode = ['education', 'marital.status', 'relationship', 'race', 'sex', 'native.country', 'income']\n",
    "\n",
    "# Initialize LabelEncoder\n",
    "le = LabelEncoder()\n",
    "\n",
    "# Encode each column and create a new column with suffix '_encoded'\n",
    "for col in cols_to_encode:\n",
    "    df_adult_income[col + '_encoded'] = le.fit_transform(df_adult_income[col])\n",
    "\n",
    "# Display the first few rows to verify\n",
    "print(df_adult_income.head())\n"
   ]
  },
  {
   "cell_type": "code",
   "execution_count": 43,
   "id": "f1603b06-52f3-4820-816d-29ce7b549b3a",
   "metadata": {},
   "outputs": [
    {
     "name": "stdout",
     "output_type": "stream",
     "text": [
      "   education_encoded  marital.status_encoded  relationship_encoded  \\\n",
      "0                 11                       6                     1   \n",
      "1                 11                       6                     1   \n",
      "2                 15                       6                     4   \n",
      "3                  5                       0                     4   \n",
      "4                 15                       5                     3   \n",
      "\n",
      "   race_encoded  sex_encoded  native.country_encoded  income_encoded  \n",
      "0             4            0                      38               0  \n",
      "1             4            0                      38               0  \n",
      "2             2            0                      38               0  \n",
      "3             4            0                      38               0  \n",
      "4             4            0                      38               0  \n"
     ]
    }
   ],
   "source": [
    "# Select only columns ending with '_encoded'\n",
    "encoded_columns = [col for col in df_adult_income.columns if col.endswith('_encoded')]\n",
    "\n",
    "# Display those columns\n",
    "print(df_adult_income[encoded_columns].head())\n"
   ]
  },
  {
   "cell_type": "code",
>>>>>>> Stashed changes
   "execution_count": null,
   "id": "f356f3fe-f41a-48c5-bed1-c124235935d4",
   "metadata": {},
   "outputs": [],
   "source": [
    "### 10. Normalising the columns\n",
    "df_adult_income_scaled = df_adult_income.copy()\n",
    "\n",
    "# Applying log1p (log(x+1)) to skewed variables\n",
    "df_adult_income_scaled['population.weight'] = np.log1p(df_adult_income_scaled['population.weight'])\n",
    "df_adult_income_scaled['capital.gain'] = np.log1p(df_adult_income_scaled['capital.gain'])\n",
    "df_adult_income_scaled['capital.loss'] = np.log1p(df_adult_income_scaled['capital.loss'])\n",
    "\n",
    "# List of columns to standardize\n",
    "cols_to_scale = ['age', 'population.weight', 'years.of.education', 'capital.gain', 'capital.loss', 'hours.per.week']\n",
    "\n",
    "# Using StandardScaler to make mean=0, std=1\n",
    "scaler = StandardScaler()\n",
    "df_adult_income_scaled[cols_to_scale] = scaler.fit_transform(df_adult_income_scaled[cols_to_scale])"
   ]
  }
 ],
 "metadata": {
  "kernelspec": {
   "display_name": "Python 3 (ipykernel)",
   "language": "python",
   "name": "python3"
  },
  "language_info": {
   "codemirror_mode": {
    "name": "ipython",
    "version": 3
   },
   "file_extension": ".py",
   "mimetype": "text/x-python",
   "name": "python",
   "nbconvert_exporter": "python",
   "pygments_lexer": "ipython3",
<<<<<<< Updated upstream
<<<<<<< Updated upstream
   "version": "3.11.9"
=======
   "version": "3.12.4"
>>>>>>> Stashed changes
=======
   "version": "3.12.4"
>>>>>>> Stashed changes
  }
 },
 "nbformat": 4,
 "nbformat_minor": 5
}
