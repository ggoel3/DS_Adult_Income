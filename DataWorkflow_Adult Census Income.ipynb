{
 "cells": [
  {
   "cell_type": "code",
   "execution_count": 45,
   "id": "761378ce-42ce-44a6-87d1-ef082dc7e9b5",
   "metadata": {},
   "outputs": [],
   "source": [
    "import pandas as pd\n",
    "import matplotlib.pyplot as plt\n",
    "import seaborn as sns\n",
    "\n",
    "### Reading the csv file\n",
    "data = pd.read_csv(\"/Users/shailesh/Downloads/adult.csv\")"
   ]
  },
  {
   "cell_type": "code",
   "execution_count": 3,
   "id": "5dfc80eb-b887-476e-88c3-c9de0fa29b70",
   "metadata": {},
   "outputs": [
    {
     "data": {
      "text/html": [
       "<div>\n",
       "<style scoped>\n",
       "    .dataframe tbody tr th:only-of-type {\n",
       "        vertical-align: middle;\n",
       "    }\n",
       "\n",
       "    .dataframe tbody tr th {\n",
       "        vertical-align: top;\n",
       "    }\n",
       "\n",
       "    .dataframe thead th {\n",
       "        text-align: right;\n",
       "    }\n",
       "</style>\n",
       "<table border=\"1\" class=\"dataframe\">\n",
       "  <thead>\n",
       "    <tr style=\"text-align: right;\">\n",
       "      <th></th>\n",
       "      <th>age</th>\n",
       "      <th>workclass</th>\n",
       "      <th>fnlwgt</th>\n",
       "      <th>education</th>\n",
       "      <th>education.num</th>\n",
       "      <th>marital.status</th>\n",
       "      <th>occupation</th>\n",
       "      <th>relationship</th>\n",
       "      <th>race</th>\n",
       "      <th>sex</th>\n",
       "      <th>capital.gain</th>\n",
       "      <th>capital.loss</th>\n",
       "      <th>hours.per.week</th>\n",
       "      <th>native.country</th>\n",
       "      <th>income</th>\n",
       "    </tr>\n",
       "  </thead>\n",
       "  <tbody>\n",
       "    <tr>\n",
       "      <th>0</th>\n",
       "      <td>90</td>\n",
       "      <td>?</td>\n",
       "      <td>77053</td>\n",
       "      <td>HS-grad</td>\n",
       "      <td>9</td>\n",
       "      <td>Widowed</td>\n",
       "      <td>?</td>\n",
       "      <td>Not-in-family</td>\n",
       "      <td>White</td>\n",
       "      <td>Female</td>\n",
       "      <td>0</td>\n",
       "      <td>4356</td>\n",
       "      <td>40</td>\n",
       "      <td>United-States</td>\n",
       "      <td>&lt;=50K</td>\n",
       "    </tr>\n",
       "    <tr>\n",
       "      <th>1</th>\n",
       "      <td>82</td>\n",
       "      <td>Private</td>\n",
       "      <td>132870</td>\n",
       "      <td>HS-grad</td>\n",
       "      <td>9</td>\n",
       "      <td>Widowed</td>\n",
       "      <td>Exec-managerial</td>\n",
       "      <td>Not-in-family</td>\n",
       "      <td>White</td>\n",
       "      <td>Female</td>\n",
       "      <td>0</td>\n",
       "      <td>4356</td>\n",
       "      <td>18</td>\n",
       "      <td>United-States</td>\n",
       "      <td>&lt;=50K</td>\n",
       "    </tr>\n",
       "    <tr>\n",
       "      <th>2</th>\n",
       "      <td>66</td>\n",
       "      <td>?</td>\n",
       "      <td>186061</td>\n",
       "      <td>Some-college</td>\n",
       "      <td>10</td>\n",
       "      <td>Widowed</td>\n",
       "      <td>?</td>\n",
       "      <td>Unmarried</td>\n",
       "      <td>Black</td>\n",
       "      <td>Female</td>\n",
       "      <td>0</td>\n",
       "      <td>4356</td>\n",
       "      <td>40</td>\n",
       "      <td>United-States</td>\n",
       "      <td>&lt;=50K</td>\n",
       "    </tr>\n",
       "    <tr>\n",
       "      <th>3</th>\n",
       "      <td>54</td>\n",
       "      <td>Private</td>\n",
       "      <td>140359</td>\n",
       "      <td>7th-8th</td>\n",
       "      <td>4</td>\n",
       "      <td>Divorced</td>\n",
       "      <td>Machine-op-inspct</td>\n",
       "      <td>Unmarried</td>\n",
       "      <td>White</td>\n",
       "      <td>Female</td>\n",
       "      <td>0</td>\n",
       "      <td>3900</td>\n",
       "      <td>40</td>\n",
       "      <td>United-States</td>\n",
       "      <td>&lt;=50K</td>\n",
       "    </tr>\n",
       "    <tr>\n",
       "      <th>4</th>\n",
       "      <td>41</td>\n",
       "      <td>Private</td>\n",
       "      <td>264663</td>\n",
       "      <td>Some-college</td>\n",
       "      <td>10</td>\n",
       "      <td>Separated</td>\n",
       "      <td>Prof-specialty</td>\n",
       "      <td>Own-child</td>\n",
       "      <td>White</td>\n",
       "      <td>Female</td>\n",
       "      <td>0</td>\n",
       "      <td>3900</td>\n",
       "      <td>40</td>\n",
       "      <td>United-States</td>\n",
       "      <td>&lt;=50K</td>\n",
       "    </tr>\n",
       "  </tbody>\n",
       "</table>\n",
       "</div>"
      ],
      "text/plain": [
       "   age workclass  fnlwgt     education  education.num marital.status  \\\n",
       "0   90         ?   77053       HS-grad              9        Widowed   \n",
       "1   82   Private  132870       HS-grad              9        Widowed   \n",
       "2   66         ?  186061  Some-college             10        Widowed   \n",
       "3   54   Private  140359       7th-8th              4       Divorced   \n",
       "4   41   Private  264663  Some-college             10      Separated   \n",
       "\n",
       "          occupation   relationship   race     sex  capital.gain  \\\n",
       "0                  ?  Not-in-family  White  Female             0   \n",
       "1    Exec-managerial  Not-in-family  White  Female             0   \n",
       "2                  ?      Unmarried  Black  Female             0   \n",
       "3  Machine-op-inspct      Unmarried  White  Female             0   \n",
       "4     Prof-specialty      Own-child  White  Female             0   \n",
       "\n",
       "   capital.loss  hours.per.week native.country income  \n",
       "0          4356              40  United-States  <=50K  \n",
       "1          4356              18  United-States  <=50K  \n",
       "2          4356              40  United-States  <=50K  \n",
       "3          3900              40  United-States  <=50K  \n",
       "4          3900              40  United-States  <=50K  "
      ]
     },
     "execution_count": 3,
     "metadata": {},
     "output_type": "execute_result"
    }
   ],
   "source": [
    "data.head()"
   ]
  },
  {
   "cell_type": "code",
   "execution_count": 5,
   "id": "bef13719-4d75-4ee8-a43c-94dbf372bf66",
   "metadata": {},
   "outputs": [
    {
     "name": "stdout",
     "output_type": "stream",
     "text": [
      "                nan_count  question_mark_count  total_missing\n",
      "occupation              0                 1843           1843\n",
      "workclass               0                 1836           1836\n",
      "native.country          0                  583            583\n",
      "age                     0                    0              0\n",
      "fnlwgt                  0                    0              0\n",
      "education               0                    0              0\n",
      "education.num           0                    0              0\n",
      "marital.status          0                    0              0\n",
      "relationship            0                    0              0\n",
      "race                    0                    0              0\n",
      "sex                     0                    0              0\n",
      "capital.gain            0                    0              0\n",
      "capital.loss            0                    0              0\n",
      "hours.per.week          0                    0              0\n",
      "income                  0                    0              0\n"
     ]
    }
   ],
   "source": [
    "########## Trying to look at the condition of the data \n",
    "# Count of NaNs\n",
    "missing_counts = data.isnull().sum()\n",
    "\n",
    "# Count of \"?\" as missing indicator\n",
    "question_mark_counts = (data == '?').sum()\n",
    "\n",
    "# Combine into a DataFrame\n",
    "missing_summary = pd.DataFrame({\n",
    "    'nan_count': missing_counts,\n",
    "    'question_mark_count': question_mark_counts\n",
    "})\n",
    "\n",
    "# Sort by total missing (NaN + \"?\")\n",
    "missing_summary['total_missing'] = missing_summary['nan_count'] + missing_summary['question_mark_count']\n",
    "missing_summary = missing_summary.sort_values(by='total_missing', ascending=False)\n",
    "\n",
    "print(missing_summary)"
   ]
  },
  {
   "cell_type": "code",
   "execution_count": 9,
   "id": "400de0ee-ff50-43dd-a651-430e38f9b568",
   "metadata": {},
   "outputs": [
    {
     "name": "stdout",
     "output_type": "stream",
     "text": [
      "Unique Fuel: ['?' 'Exec-managerial' 'Machine-op-inspct' 'Prof-specialty'\n",
      " 'Other-service' 'Adm-clerical' 'Craft-repair' 'Transport-moving'\n",
      " 'Handlers-cleaners' 'Sales' 'Farming-fishing' 'Tech-support'\n",
      " 'Protective-serv' 'Armed-Forces' 'Priv-house-serv']\n"
     ]
    }
   ],
   "source": [
    "##Checking all Data columns uniques values###\n",
    "print(\"occupation:\", data['occupation'].unique())"
   ]
  },
  {
   "cell_type": "code",
   "execution_count": 11,
   "id": "af9e9549-e360-42ce-87bc-378db7a9ef50",
   "metadata": {},
   "outputs": [
    {
     "name": "stdout",
     "output_type": "stream",
     "text": [
      "Unique Fuel: ['?' 'Private' 'State-gov' 'Federal-gov' 'Self-emp-not-inc' 'Self-emp-inc'\n",
      " 'Local-gov' 'Without-pay' 'Never-worked']\n"
     ]
    }
   ],
   "source": [
    "print(\"workclass:\", data['workclass'].unique())"
   ]
  },
  {
   "cell_type": "code",
   "execution_count": 13,
   "id": "5b66f74e-1ffd-48d2-a3f9-8f0bcb40dcf2",
   "metadata": {},
   "outputs": [
    {
     "name": "stdout",
     "output_type": "stream",
     "text": [
      "Unique Fuel: ['HS-grad' 'Some-college' '7th-8th' '10th' 'Doctorate' 'Prof-school'\n",
      " 'Bachelors' 'Masters' '11th' 'Assoc-acdm' 'Assoc-voc' '1st-4th' '5th-6th'\n",
      " '12th' '9th' 'Preschool']\n"
     ]
    }
   ],
   "source": [
    "print(\"education:\", data['education'].unique())"
   ]
  },
  {
   "cell_type": "code",
   "execution_count": 15,
   "id": "20e0f509-42a1-4273-a7b5-5ac0f4de86ab",
   "metadata": {},
   "outputs": [
    {
     "name": "stdout",
     "output_type": "stream",
     "text": [
      "Unique Fuel: [ 9 10  4  6 16 15 13 14  7 12 11  2  3  8  5  1]\n"
     ]
    }
   ],
   "source": [
    "print(\"education.num':\", data['education.num'].unique())"
   ]
  },
  {
   "cell_type": "code",
   "execution_count": 17,
   "id": "6910d87f-12e5-4585-b2d6-e516aee6e265",
   "metadata": {},
   "outputs": [
    {
     "name": "stdout",
     "output_type": "stream",
     "text": [
      "Unique Fuel: ['Not-in-family' 'Unmarried' 'Own-child' 'Other-relative' 'Husband' 'Wife']\n"
     ]
    }
   ],
   "source": [
    "print(\"relationship:\", data['relationship'].unique())"
   ]
  },
  {
   "cell_type": "code",
   "execution_count": 19,
   "id": "094323c2-c57c-473c-891c-aafbe568fef9",
   "metadata": {},
   "outputs": [
    {
     "name": "stdout",
     "output_type": "stream",
     "text": [
      "Unique Fuel: ['Widowed' 'Divorced' 'Separated' 'Never-married' 'Married-civ-spouse'\n",
      " 'Married-spouse-absent' 'Married-AF-spouse']\n"
     ]
    }
   ],
   "source": [
    "print(\"marital.status:\", data['marital.status'].unique())"
   ]
  },
  {
   "cell_type": "code",
   "execution_count": 21,
   "id": "9b9d428a-ff81-4147-8f3c-a5747a4683fd",
   "metadata": {},
   "outputs": [
    {
     "name": "stdout",
     "output_type": "stream",
     "text": [
      "Unique Fuel: ['White' 'Black' 'Asian-Pac-Islander' 'Other' 'Amer-Indian-Eskimo']\n"
     ]
    }
   ],
   "source": [
    "print(\"race:\", data['race'].unique())"
   ]
  },
  {
   "cell_type": "code",
   "execution_count": 23,
   "id": "fd995498-22ff-4796-98b7-d1dbd7ced64e",
   "metadata": {},
   "outputs": [
    {
     "name": "stdout",
     "output_type": "stream",
     "text": [
      "Unique Fuel: ['Female' 'Male']\n"
     ]
    }
   ],
   "source": [
    "print(\"sex:\", data['sex'].unique())"
   ]
  },
  {
   "cell_type": "code",
   "execution_count": 25,
   "id": "d3b044d7-fed8-4f2e-b79f-359affc91542",
   "metadata": {},
   "outputs": [
    {
     "name": "stdout",
     "output_type": "stream",
     "text": [
      "Unique Fuel: [    0 99999 41310 34095 27828 25236 25124 22040 20051 18481 15831 15024\n",
      " 15020 14344 14084 13550 11678 10605 10566 10520  9562  9386  8614  7978\n",
      "  7896  7688  7443  7430  7298  6849  6767  6723  6514  6497  6418  6360\n",
      "  6097  5721  5556  5455  5178  5060  5013  4934  4931  4865  4787  4687\n",
      "  4650  4508  4416  4386  4101  4064  3942  3908  3887  3818  3781  3674\n",
      "  3471  3464  3456  3432  3418  3411  3325  3273  3137  3103  2993  2977\n",
      "  2964  2961  2936  2907  2885  2829  2653  2635  2597  2580  2538  2463\n",
      "  2414  2407  2387  2354  2346  2329  2290  2228  2202  2176  2174  2105\n",
      "  2062  2050  2036  2009  1848  1831  1797  1639  1506  1471  1455  1424\n",
      "  1409  1173  1151  1111  1086  1055   991   914   594   401   114]\n"
     ]
    }
   ],
   "source": [
    "print(\"capital.gain:\", data['capital.gain'].unique())"
   ]
  },
  {
   "cell_type": "code",
   "execution_count": 27,
   "id": "287e7005-19fe-4027-bba6-139bacc5546e",
   "metadata": {},
   "outputs": [
    {
     "name": "stdout",
     "output_type": "stream",
     "text": [
      "Unique Fuel: [4356 3900 3770 3683 3004 2824 2754 2603 2559 2547 2489 2472 2467 2457\n",
      " 2444 2415 2392 2377 2352 2339 2282 2267 2258 2246 2238 2231 2206 2205\n",
      " 2201 2179 2174 2163 2149 2129 2080 2057 2051 2042 2002 2001 1980 1977\n",
      " 1974 1944 1902 1887 1876 1848 1844 1825 1816 1762 1755 1741 1740 1735\n",
      " 1726 1721 1719 1672 1669 1668 1651 1648 1628 1617 1602 1594 1590 1579\n",
      " 1573 1564 1539 1504 1485 1411 1408 1380 1340 1258 1138 1092  974  880\n",
      "  810  653  625  419  323  213  155    0]\n"
     ]
    }
   ],
   "source": [
    "print(\"capital.loss:\", data['capital.loss'].unique())"
   ]
  },
  {
   "cell_type": "code",
   "execution_count": 29,
   "id": "ce263870-2585-4b98-a131-92c5a2e1581c",
   "metadata": {},
   "outputs": [
    {
     "name": "stdout",
     "output_type": "stream",
     "text": [
      "Unique Fuel: [40 18 45 20 60 35 55 76 50 42 25 32 90 48 15 70 52 72 39  6 65 12 80 67\n",
      " 99 30 75 26 36 10 84 38 62 44  8 28 59  5 24 57 34 37 46 56 41 98 43 63\n",
      "  1 47 68 54  2 16  9  3  4 33 23 22 64 51 19 58 53 96 66 21  7 13 27 11\n",
      " 14 77 31 78 49 17 85 87 88 73 89 97 94 29 82 86 91 81 92 61 74 95]\n"
     ]
    }
   ],
   "source": [
    "print(\"hours.per.week:\", data['hours.per.week'].unique())"
   ]
  },
  {
   "cell_type": "code",
   "execution_count": 71,
   "id": "ab7252c8-2e91-48d3-a69b-d6e46eca5038",
   "metadata": {},
   "outputs": [
    {
     "name": "stdout",
     "output_type": "stream",
     "text": [
      "Unique Fuel: ['United-States' '?' 'Mexico' 'Greece' 'Vietnam' 'China' 'Taiwan' 'India'\n",
      " 'Philippines' 'Trinadad&Tobago' 'Canada' 'South' 'Holand-Netherlands'\n",
      " 'Puerto-Rico' 'Poland' 'Iran' 'England' 'Germany' 'Italy' 'Japan' 'Hong'\n",
      " 'Honduras' 'Cuba' 'Ireland' 'Cambodia' 'Peru' 'Nicaragua'\n",
      " 'Dominican-Republic' 'Haiti' 'El-Salvador' 'Hungary' 'Columbia'\n",
      " 'Guatemala' 'Jamaica' 'Ecuador' 'France' 'Yugoslavia' 'Scotland'\n",
      " 'Portugal' 'Laos' 'Thailand' 'Outlying-US(Guam-USVI-etc)']\n"
     ]
    },
    {
     "data": {
      "text/plain": [
       "array(['United-States', '?', 'Mexico', 'Greece', 'Vietnam', 'China',\n",
       "       'Taiwan', 'India', 'Philippines', 'Trinadad&Tobago', 'Canada',\n",
       "       'South-Korea', 'Holand-Netherlands', 'Puerto-Rico', 'Poland',\n",
       "       'Iran', 'England', 'Germany', 'Italy', 'Japan', 'Hong-Kong',\n",
       "       'Honduras', 'Cuba', 'Ireland', 'Cambodia', 'Peru', 'Nicaragua',\n",
       "       'Dominican-Republic', 'Haiti', 'El-Salvador', 'Hungary',\n",
       "       'Columbia', 'Guatemala', 'Jamaica', 'Ecuador', 'France',\n",
       "       'Yugoslavia', 'Scotland', 'Portugal', 'Laos', 'Thailand',\n",
       "       'Outlying-US(Guam-USVI-etc)'], dtype=object)"
      ]
     },
     "execution_count": 71,
     "metadata": {},
     "output_type": "execute_result"
    }
   ],
   "source": [
    "print(\"native.country:\", data['native.country'].unique())"
   ]
  },
  {
   "cell_type": "code",
   "execution_count": 67,
   "id": "e6ba6a7c-e73f-4758-9487-68d79fbd4568",
   "metadata": {},
   "outputs": [
    {
     "name": "stdout",
     "output_type": "stream",
     "text": [
      "Unique Fuel: ['<=50K' '>50K']\n"
     ]
    }
   ],
   "source": [
    "print(\"income:\", data['income'].unique())"
   ]
  },
  {
   "cell_type": "code",
   "execution_count": 35,
   "id": "f73f65bb-1a64-4a25-ab33-7fa0937859cc",
   "metadata": {},
   "outputs": [
    {
     "name": "stdout",
     "output_type": "stream",
     "text": [
      "Unique Fuel: [90 82 66 54 41 34 38 74 68 45 52 32 51 46 57 22 37 29 61 21 33 49 23 59\n",
      " 60 63 53 44 43 71 48 73 67 40 50 42 39 55 47 31 58 62 36 72 78 83 26 70\n",
      " 27 35 81 65 25 28 56 69 20 30 24 64 75 19 77 80 18 17 76 79 88 84 85 86\n",
      " 87]\n"
     ]
    }
   ],
   "source": [
    "print(\"age:\", data['age'].unique())"
   ]
  },
  {
   "cell_type": "code",
   "execution_count": 37,
   "id": "fbe32c57-c56c-4800-a9af-2a696c2c0ee0",
   "metadata": {},
   "outputs": [
    {
     "name": "stdout",
     "output_type": "stream",
     "text": [
      "       age         workclass  fnlwgt     education  education.num  \\\n",
      "8453    25           Private  308144     Bachelors             13   \n",
      "8645    90           Private   52386  Some-college             10   \n",
      "12202   21           Private  250051  Some-college             10   \n",
      "14346   20           Private  107658  Some-college             10   \n",
      "15603   25           Private  195994       1st-4th              2   \n",
      "17344   21           Private  243368     Preschool              1   \n",
      "19067   46           Private  173243       HS-grad              9   \n",
      "20388   30           Private  144593       HS-grad              9   \n",
      "20507   19           Private   97261       HS-grad              9   \n",
      "22783   19           Private  138153  Some-college             10   \n",
      "22934   19           Private  146679  Some-college             10   \n",
      "23276   49           Private   31267       7th-8th              4   \n",
      "23660   25           Private  195994       1st-4th              2   \n",
      "23720   44           Private  367749     Bachelors             13   \n",
      "23827   49  Self-emp-not-inc   43479  Some-college             10   \n",
      "26738   23           Private  240137       5th-6th              3   \n",
      "27133   28           Private  274679       Masters             14   \n",
      "28796   27           Private  255582       HS-grad              9   \n",
      "29051   42           Private  204235  Some-college             10   \n",
      "29334   39           Private   30916       HS-grad              9   \n",
      "29604   38           Private  207202       HS-grad              9   \n",
      "31060   46           Private  133616  Some-college             10   \n",
      "32065   19           Private  251579  Some-college             10   \n",
      "32419   35           Private  379959       HS-grad              9   \n",
      "\n",
      "           marital.status         occupation   relationship  \\\n",
      "8453        Never-married       Craft-repair  Not-in-family   \n",
      "8645        Never-married      Other-service  Not-in-family   \n",
      "12202       Never-married     Prof-specialty      Own-child   \n",
      "14346       Never-married       Tech-support  Not-in-family   \n",
      "15603       Never-married    Priv-house-serv  Not-in-family   \n",
      "17344       Never-married    Farming-fishing  Not-in-family   \n",
      "19067  Married-civ-spouse       Craft-repair        Husband   \n",
      "20388       Never-married      Other-service  Not-in-family   \n",
      "20507       Never-married    Farming-fishing  Not-in-family   \n",
      "22783       Never-married       Adm-clerical      Own-child   \n",
      "22934       Never-married    Exec-managerial      Own-child   \n",
      "23276  Married-civ-spouse       Craft-repair        Husband   \n",
      "23660       Never-married    Priv-house-serv  Not-in-family   \n",
      "23720       Never-married     Prof-specialty  Not-in-family   \n",
      "23827  Married-civ-spouse       Craft-repair        Husband   \n",
      "26738       Never-married  Handlers-cleaners  Not-in-family   \n",
      "27133       Never-married     Prof-specialty  Not-in-family   \n",
      "28796       Never-married  Machine-op-inspct  Not-in-family   \n",
      "29051  Married-civ-spouse     Prof-specialty        Husband   \n",
      "29334  Married-civ-spouse       Craft-repair        Husband   \n",
      "29604  Married-civ-spouse  Machine-op-inspct        Husband   \n",
      "31060            Divorced       Adm-clerical      Unmarried   \n",
      "32065       Never-married      Other-service      Own-child   \n",
      "32419            Divorced      Other-service  Not-in-family   \n",
      "\n",
      "                     race     sex  capital.gain  capital.loss  hours.per.week  \\\n",
      "8453                White    Male             0             0              40   \n",
      "8645   Asian-Pac-Islander    Male             0             0              35   \n",
      "12202               White  Female             0             0              10   \n",
      "14346               White  Female             0             0              10   \n",
      "15603               White  Female             0             0              40   \n",
      "17344               White    Male             0             0              50   \n",
      "19067               White    Male             0             0              40   \n",
      "20388               Black    Male             0             0              40   \n",
      "20507               White    Male             0             0              40   \n",
      "22783               White  Female             0             0              10   \n",
      "22934               Black    Male             0             0              30   \n",
      "23276               White    Male             0             0              40   \n",
      "23660               White  Female             0             0              40   \n",
      "23720               White  Female             0             0              45   \n",
      "23827               White    Male             0             0              40   \n",
      "26738               White    Male             0             0              55   \n",
      "27133               White    Male             0             0              50   \n",
      "28796               White  Female             0             0              40   \n",
      "29051               White    Male             0             0              40   \n",
      "29334               White    Male             0             0              40   \n",
      "29604               White    Male             0             0              48   \n",
      "31060               White  Female             0             0              40   \n",
      "32065               White    Male             0             0              14   \n",
      "32419               White  Female             0             0              40   \n",
      "\n",
      "      native.country income  \n",
      "8453          Mexico  <=50K  \n",
      "8645   United-States  <=50K  \n",
      "12202  United-States  <=50K  \n",
      "14346  United-States  <=50K  \n",
      "15603      Guatemala  <=50K  \n",
      "17344         Mexico  <=50K  \n",
      "19067  United-States  <=50K  \n",
      "20388              ?  <=50K  \n",
      "20507  United-States  <=50K  \n",
      "22783  United-States  <=50K  \n",
      "22934  United-States  <=50K  \n",
      "23276  United-States  <=50K  \n",
      "23660      Guatemala  <=50K  \n",
      "23720         Mexico  <=50K  \n",
      "23827  United-States  <=50K  \n",
      "26738         Mexico  <=50K  \n",
      "27133  United-States  <=50K  \n",
      "28796  United-States  <=50K  \n",
      "29051  United-States   >50K  \n",
      "29334  United-States  <=50K  \n",
      "29604  United-States   >50K  \n",
      "31060  United-States  <=50K  \n",
      "32065  United-States  <=50K  \n",
      "32419  United-States  <=50K  \n",
      "Number of duplicate rows: 24\n"
     ]
    }
   ],
   "source": [
    "#### Finding duplicate rows\n",
    "duplicates = data[data.duplicated()]\n",
    "print(duplicates)\n",
    "num_duplicates = data.duplicated().sum()\n",
    "print(f\"Number of duplicate rows: {num_duplicates}\")"
   ]
  },
  {
   "cell_type": "code",
   "execution_count": null,
   "id": "7715560d-1654-4a80-a36b-f26ed0098fa5",
   "metadata": {},
   "outputs": [],
   "source": [
    "# List of typical integer variables in Adult dataset\n",
    "int_columns = ['age', 'fnlwgt', 'education.num', 'capital.gain', 'capital.loss', 'hours.per.week']\n",
    "\n",
    "# Check which columns actually exist in your dataframe\n",
    "existing_int_columns = [col for col in int_columns if col in data.columns]\n",
    "\n",
    "# Plot each boxplot separately\n",
    "for col in existing_int_columns:\n",
    "    plt.figure(figsize=(6, 4))\n",
    "    sns.boxplot(y=df_unique[col])\n",
    "    plt.title(f'Boxplot of {col}')\n",
    "    plt.ylabel(col)\n",
    "    plt.show()"
   ]
  },
  {
   "cell_type": "code",
   "execution_count": 39,
   "id": "f9b0719a-ac3a-4796-9e03-3c1bc016efd4",
   "metadata": {},
   "outputs": [],
   "source": [
    "########## Pre-processing steps starts from here \n",
    "\n",
    "### 1. Removing duplicate rows\n",
    "df_adult_income = data.drop_duplicates()\n"
   ]
  },
  {
   "cell_type": "code",
   "execution_count": 73,
   "id": "77097745-a04a-417d-ad3d-0d7a5ecf439f",
   "metadata": {},
   "outputs": [],
   "source": [
    "### 2. Renaming the column name 'fnlwgt' to a better name for clear understanding \n",
    "df_adult_income = df_adult_income.rename(columns={'fnlwgt': 'population_weight'})"
   ]
  },
  {
   "cell_type": "code",
   "execution_count": null,
   "id": "de530bbf-9373-461d-b696-8d5ab589871d",
   "metadata": {},
   "outputs": [],
   "source": [
    "### 2. Renaming the column name 'education.num' to a better name for clear understanding \n",
    "df_adult_income = df_adult_income.rename(columns={'education.num': 'years.of.education'})"
   ]
  },
  {
   "cell_type": "code",
   "execution_count": null,
   "id": "ec9f679b-b936-4460-9317-24982a04e782",
   "metadata": {},
   "outputs": [],
   "source": [
    "### 3. Completing the country names for better understanding \n",
    "df_adult_income['native.country'] = df_adult_income['native.country'].replace('South', 'South-Korea')\n",
    "df_adult_income['native.country'] = df_adult_income['native.country'].replace('Hong', 'Hong-Kong')"
   ]
  },
  {
   "cell_type": "code",
   "execution_count": 75,
   "id": "4be62510-83c1-4778-b6aa-6daa957e0ed6",
   "metadata": {},
   "outputs": [],
   "source": [
    "### 4. Randomly modifying the column 'sex' values and then trying to fix them. \n",
    "sample_indices = df_adult_income.sample(n=2000, random_state=42).index\n",
    "df_adult_income.loc[sample_indices, 'sex'] = df_adult_income.loc[sample_indices, 'sex'].replace({'Male': 'M', 'Female': 'F'})\n",
    "df_adult_income['sex'] = df_adult_income['sex'].replace({'M': 'Male', 'F': 'Female'})\n"
   ]
  },
  {
   "cell_type": "code",
   "execution_count": 47,
   "id": "ac97747a-633a-4615-9a09-85fe4e05bf7d",
   "metadata": {},
   "outputs": [
    {
     "data": {
      "image/png": "[encoded data removed]",
      "text/plain": [
       "<Figure size 600x400 with 1 Axes>"
      ]
     },
     "metadata": {},
     "output_type": "display_data"
    },
    {
     "data": {
      "image/png": "[encoded data removed]",
      "text/plain": [
       "<Figure size 600x400 with 1 Axes>"
      ]
     },
     "metadata": {},
     "output_type": "display_data"
    },
    {
     "data": {
      "image/png": "[encoded data removed]",
      "text/plain": [
       "<Figure size 600x400 with 1 Axes>"
      ]
     },
     "metadata": {},
     "output_type": "display_data"
    },
    {
     "data": {
      "image/png": "[encoded data removed]",
      "text/plain": [
       "<Figure size 600x400 with 1 Axes>"
      ]
     },
     "metadata": {},
     "output_type": "display_data"
    },
    {
     "data": {
      "image/png": "[encoded data removed]",
      "text/plain": [
       "<Figure size 600x400 with 1 Axes>"
      ]
     },
     "metadata": {},
     "output_type": "display_data"
    },
    {
     "data": {
      "image/png": "[encoded data removed]",
      "text/plain": [
       "<Figure size 600x400 with 1 Axes>"
      ]
     },
     "metadata": {},
     "output_type": "display_data"
    }
   ],
   "source": [
    "# List of typical integer variables in Adult dataset\n",
    "int_columns = ['age', 'fnlwgt', 'education.num', 'capital.gain', 'capital.loss', 'hours.per.week']\n",
    "\n",
    "# Check which columns actually exist in your dataframe\n",
    "existing_int_columns = [col for col in int_columns if col in df_unique.columns]\n",
    "\n",
    "# Plot each boxplot separately\n",
    "for col in existing_int_columns:\n",
    "    plt.figure(figsize=(6, 4))\n",
    "    sns.boxplot(y=df_unique[col])\n",
    "    plt.title(f'Boxplot of {col}')\n",
    "    plt.ylabel(col)\n",
    "    plt.show()\n"
   ]
  },
  {
   "cell_type": "code",
   "execution_count": 53,
   "id": "336b9c91-f941-47f1-9ffd-9fb73390039e",
   "metadata": {},
   "outputs": [
    {
     "data": {
      "text/plain": [
       "(32537, 15)"
      ]
     },
     "execution_count": 53,
     "metadata": {},
     "output_type": "execute_result"
    }
   ],
   "source": [
    "df_unique.shape"
   ]
  },
  {
   "cell_type": "code",
   "execution_count": null,
   "id": "2d8c7c47-b873-4116-8d39-9523cba9fff2",
   "metadata": {},
   "outputs": [],
   "source": []
  }
 ],
 "metadata": {
  "kernelspec": {
   "display_name": "Python 3 (ipykernel)",
   "language": "python",
   "name": "python3"
  },
  "language_info": {
   "codemirror_mode": {
    "name": "ipython",
    "version": 3
   },
   "file_extension": ".py",
   "mimetype": "text/x-python",
   "name": "python",
   "nbconvert_exporter": "python",
   "pygments_lexer": "ipython3",
   "version": "3.11.9"
  }
 },
 "nbformat": 4,
 "nbformat_minor": 5
}
