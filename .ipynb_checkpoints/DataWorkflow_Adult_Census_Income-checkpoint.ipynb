{
 "cells": [
  {
   "cell_type": "code",
   "execution_count": 316,
   "id": "761378ce-42ce-44a6-87d1-ef082dc7e9b5",
   "metadata": {},
   "outputs": [],
   "source": [
    "import pandas as pd\n",
    "import matplotlib.pyplot as plt\n",
    "import numpy as np\n",
    "import seaborn as sns\n",
    "import tensorflow as tf\n",
    "from sklearn.tree import DecisionTreeClassifier\n",
    "from imblearn.over_sampling import SMOTE\n",
    "from sklearn.model_selection import train_test_split, StratifiedKFold, cross_validate, GridSearchCV\n",
    "from sklearn.preprocessing import LabelEncoder\n",
    "from sklearn.preprocessing import StandardScaler\n",
    "from sklearn.linear_model import LogisticRegression\n",
    "from sklearn.metrics import accuracy_score, confusion_matrix, classification_report\n",
    "from sklearn.neural_network import MLPClassifier\n",
    "from sklearn.dummy import DummyClassifier\n"
   ]
  },
  {
   "cell_type": "code",
   "execution_count": 317,
   "id": "b933f658-1992-48db-ba9e-421f7d5cbb58",
   "metadata": {},
   "outputs": [],
   "source": [
    "### Reading the csv file\n",
    "data = pd.read_csv(\"adult_income.csv\")"
   ]
  },
  {
   "cell_type": "code",
   "execution_count": 318,
   "id": "5dfc80eb-b887-476e-88c3-c9de0fa29b70",
   "metadata": {},
   "outputs": [
    {
     "name": "stdout",
     "output_type": "stream",
     "text": [
      "<class 'pandas.core.frame.DataFrame'>\n",
      "RangeIndex: 32561 entries, 0 to 32560\n",
      "Data columns (total 15 columns):\n",
      " #   Column          Non-Null Count  Dtype \n",
      "---  ------          --------------  ----- \n",
      " 0   age             32561 non-null  int64 \n",
      " 1   workclass       32561 non-null  object\n",
      " 2   fnlwgt          32561 non-null  int64 \n",
      " 3   education       32561 non-null  object\n",
      " 4   education.num   32561 non-null  int64 \n",
      " 5   marital.status  32561 non-null  object\n",
      " 6   occupation      32561 non-null  object\n",
      " 7   relationship    32561 non-null  object\n",
      " 8   race            32561 non-null  object\n",
      " 9   sex             32561 non-null  object\n",
      " 10  capital.gain    32561 non-null  int64 \n",
      " 11  capital.loss    32561 non-null  int64 \n",
      " 12  hours.per.week  32561 non-null  int64 \n",
      " 13  native.country  32561 non-null  object\n",
      " 14  income          32561 non-null  object\n",
      "dtypes: int64(6), object(9)\n",
      "memory usage: 3.7+ MB\n"
     ]
    }
   ],
   "source": [
    "data.head()\n",
    "data.info()"
   ]
  },
  {
   "cell_type": "code",
   "execution_count": 319,
   "id": "bef13719-4d75-4ee8-a43c-94dbf372bf66",
   "metadata": {},
   "outputs": [
    {
     "name": "stdout",
     "output_type": "stream",
     "text": [
      "                nan_count  question_mark_count  total_missing\n",
      "occupation              0                 1843           1843\n",
      "workclass               0                 1836           1836\n",
      "native.country          0                  583            583\n",
      "age                     0                    0              0\n",
      "fnlwgt                  0                    0              0\n",
      "education               0                    0              0\n",
      "education.num           0                    0              0\n",
      "marital.status          0                    0              0\n",
      "relationship            0                    0              0\n",
      "race                    0                    0              0\n",
      "sex                     0                    0              0\n",
      "capital.gain            0                    0              0\n",
      "capital.loss            0                    0              0\n",
      "hours.per.week          0                    0              0\n",
      "income                  0                    0              0\n"
     ]
    }
   ],
   "source": [
    "########## Trying to look at the condition of the data ##########\n",
    "# Count of NaNs\n",
    "missing_counts = data.isnull().sum()\n",
    "\n",
    "# Count of \"?\" as missing indicator\n",
    "question_mark_counts = (data == '?').sum()\n",
    "\n",
    "# Combine into a DataFrame\n",
    "missing_summary = pd.DataFrame({\n",
    "    'nan_count': missing_counts,\n",
    "    'question_mark_count': question_mark_counts\n",
    "})\n",
    "\n",
    "# Sort by total missing (NaN + \"?\")\n",
    "missing_summary['total_missing'] = missing_summary['nan_count'] + missing_summary['question_mark_count']\n",
    "missing_summary = missing_summary.sort_values(by='total_missing', ascending=False)\n",
    "\n",
    "print(missing_summary)"
   ]
  },
  {
   "cell_type": "code",
   "execution_count": 320,
   "id": "400de0ee-ff50-43dd-a651-430e38f9b568",
   "metadata": {},
   "outputs": [
    {
     "name": "stdout",
     "output_type": "stream",
     "text": [
      "occupation: ['?' 'Exec-managerial' 'Machine-op-inspct' 'Prof-specialty'\n",
      " 'Other-service' 'Adm-clerical' 'Craft-repair' 'Transport-moving'\n",
      " 'Handlers-cleaners' 'Sales' 'Farming-fishing' 'Tech-support'\n",
      " 'Protective-serv' 'Armed-Forces' 'Priv-house-serv']\n"
     ]
    }
   ],
   "source": [
    "### Checking all Data columns uniques values\n",
    "print(\"occupation:\", data['occupation'].unique())"
   ]
  },
  {
   "cell_type": "code",
   "execution_count": 321,
   "id": "af9e9549-e360-42ce-87bc-378db7a9ef50",
   "metadata": {},
   "outputs": [
    {
     "name": "stdout",
     "output_type": "stream",
     "text": [
      "workclass: ['?' 'Private' 'State-gov' 'Federal-gov' 'Self-emp-not-inc' 'Self-emp-inc'\n",
      " 'Local-gov' 'Without-pay' 'Never-worked']\n"
     ]
    }
   ],
   "source": [
    "print(\"workclass:\", data['workclass'].unique())"
   ]
  },
  {
   "cell_type": "code",
   "execution_count": 322,
   "id": "5b66f74e-1ffd-48d2-a3f9-8f0bcb40dcf2",
   "metadata": {},
   "outputs": [
    {
     "name": "stdout",
     "output_type": "stream",
     "text": [
      "education: ['HS-grad' 'Some-college' '7th-8th' '10th' 'Doctorate' 'Prof-school'\n",
      " 'Bachelors' 'Masters' '11th' 'Assoc-acdm' 'Assoc-voc' '1st-4th' '5th-6th'\n",
      " '12th' '9th' 'Preschool']\n"
     ]
    }
   ],
   "source": [
    "print(\"education:\", data['education'].unique())"
   ]
  },
  {
   "cell_type": "code",
   "execution_count": 323,
   "id": "20e0f509-42a1-4273-a7b5-5ac0f4de86ab",
   "metadata": {},
   "outputs": [
    {
     "name": "stdout",
     "output_type": "stream",
     "text": [
      "education.num': [ 9 10  4  6 16 15 13 14  7 12 11  2  3  8  5  1]\n"
     ]
    }
   ],
   "source": [
    "print(\"education.num':\", data['education.num'].unique())"
   ]
  },
  {
   "cell_type": "code",
   "execution_count": 324,
   "id": "6910d87f-12e5-4585-b2d6-e516aee6e265",
   "metadata": {},
   "outputs": [
    {
     "name": "stdout",
     "output_type": "stream",
     "text": [
      "relationship: ['Not-in-family' 'Unmarried' 'Own-child' 'Other-relative' 'Husband' 'Wife']\n"
     ]
    }
   ],
   "source": [
    "print(\"relationship:\", data['relationship'].unique())"
   ]
  },
  {
   "cell_type": "code",
   "execution_count": 325,
   "id": "094323c2-c57c-473c-891c-aafbe568fef9",
   "metadata": {},
   "outputs": [
    {
     "name": "stdout",
     "output_type": "stream",
     "text": [
      "marital.status: ['Widowed' 'Divorced' 'Separated' 'Never-married' 'Married-civ-spouse'\n",
      " 'Married-spouse-absent' 'Married-AF-spouse']\n"
     ]
    }
   ],
   "source": [
    "print(\"marital.status:\", data['marital.status'].unique())"
   ]
  },
  {
   "cell_type": "code",
   "execution_count": 326,
   "id": "9b9d428a-ff81-4147-8f3c-a5747a4683fd",
   "metadata": {},
   "outputs": [
    {
     "name": "stdout",
     "output_type": "stream",
     "text": [
      "race: ['White' 'Black' 'Asian-Pac-Islander' 'Other' 'Amer-Indian-Eskimo']\n"
     ]
    }
   ],
   "source": [
    "print(\"race:\", data['race'].unique())"
   ]
  },
  {
   "cell_type": "code",
   "execution_count": 327,
   "id": "fd995498-22ff-4796-98b7-d1dbd7ced64e",
   "metadata": {},
   "outputs": [
    {
     "name": "stdout",
     "output_type": "stream",
     "text": [
      "sex: ['Female' 'Male']\n"
     ]
    }
   ],
   "source": [
    "print(\"sex:\", data['sex'].unique())"
   ]
  },
  {
   "cell_type": "code",
   "execution_count": 328,
   "id": "d3b044d7-fed8-4f2e-b79f-359affc91542",
   "metadata": {},
   "outputs": [
    {
     "name": "stdout",
     "output_type": "stream",
     "text": [
      "capital.gain: [    0 99999 41310 34095 27828 25236 25124 22040 20051 18481 15831 15024\n",
      " 15020 14344 14084 13550 11678 10605 10566 10520  9562  9386  8614  7978\n",
      "  7896  7688  7443  7430  7298  6849  6767  6723  6514  6497  6418  6360\n",
      "  6097  5721  5556  5455  5178  5060  5013  4934  4931  4865  4787  4687\n",
      "  4650  4508  4416  4386  4101  4064  3942  3908  3887  3818  3781  3674\n",
      "  3471  3464  3456  3432  3418  3411  3325  3273  3137  3103  2993  2977\n",
      "  2964  2961  2936  2907  2885  2829  2653  2635  2597  2580  2538  2463\n",
      "  2414  2407  2387  2354  2346  2329  2290  2228  2202  2176  2174  2105\n",
      "  2062  2050  2036  2009  1848  1831  1797  1639  1506  1471  1455  1424\n",
      "  1409  1173  1151  1111  1086  1055   991   914   594   401   114]\n"
     ]
    }
   ],
   "source": [
    "print(\"capital.gain:\", data['capital.gain'].unique())"
   ]
  },
  {
   "cell_type": "code",
   "execution_count": 329,
   "id": "287e7005-19fe-4027-bba6-139bacc5546e",
   "metadata": {},
   "outputs": [
    {
     "name": "stdout",
     "output_type": "stream",
     "text": [
      "capital.loss: [4356 3900 3770 3683 3004 2824 2754 2603 2559 2547 2489 2472 2467 2457\n",
      " 2444 2415 2392 2377 2352 2339 2282 2267 2258 2246 2238 2231 2206 2205\n",
      " 2201 2179 2174 2163 2149 2129 2080 2057 2051 2042 2002 2001 1980 1977\n",
      " 1974 1944 1902 1887 1876 1848 1844 1825 1816 1762 1755 1741 1740 1735\n",
      " 1726 1721 1719 1672 1669 1668 1651 1648 1628 1617 1602 1594 1590 1579\n",
      " 1573 1564 1539 1504 1485 1411 1408 1380 1340 1258 1138 1092  974  880\n",
      "  810  653  625  419  323  213  155    0]\n"
     ]
    }
   ],
   "source": [
    "print(\"capital.loss:\", data['capital.loss'].unique())"
   ]
  },
  {
   "cell_type": "code",
   "execution_count": 330,
   "id": "ce263870-2585-4b98-a131-92c5a2e1581c",
   "metadata": {},
   "outputs": [
    {
     "name": "stdout",
     "output_type": "stream",
     "text": [
      "hours.per.week: [40 18 45 20 60 35 55 76 50 42 25 32 90 48 15 70 52 72 39  6 65 12 80 67\n",
      " 99 30 75 26 36 10 84 38 62 44  8 28 59  5 24 57 34 37 46 56 41 98 43 63\n",
      "  1 47 68 54  2 16  9  3  4 33 23 22 64 51 19 58 53 96 66 21  7 13 27 11\n",
      " 14 77 31 78 49 17 85 87 88 73 89 97 94 29 82 86 91 81 92 61 74 95]\n"
     ]
    }
   ],
   "source": [
    "print(\"hours.per.week:\", data['hours.per.week'].unique())"
   ]
  },
  {
   "cell_type": "code",
   "execution_count": 331,
   "id": "ab7252c8-2e91-48d3-a69b-d6e46eca5038",
   "metadata": {},
   "outputs": [
    {
     "name": "stdout",
     "output_type": "stream",
     "text": [
      "native.country: ['United-States' '?' 'Mexico' 'Greece' 'Vietnam' 'China' 'Taiwan' 'India'\n",
      " 'Philippines' 'Trinadad&Tobago' 'Canada' 'South' 'Holand-Netherlands'\n",
      " 'Puerto-Rico' 'Poland' 'Iran' 'England' 'Germany' 'Italy' 'Japan' 'Hong'\n",
      " 'Honduras' 'Cuba' 'Ireland' 'Cambodia' 'Peru' 'Nicaragua'\n",
      " 'Dominican-Republic' 'Haiti' 'El-Salvador' 'Hungary' 'Columbia'\n",
      " 'Guatemala' 'Jamaica' 'Ecuador' 'France' 'Yugoslavia' 'Scotland'\n",
      " 'Portugal' 'Laos' 'Thailand' 'Outlying-US(Guam-USVI-etc)']\n"
     ]
    }
   ],
   "source": [
    "print(\"native.country:\", data['native.country'].unique())"
   ]
  },
  {
   "cell_type": "code",
   "execution_count": 332,
   "id": "e6ba6a7c-e73f-4758-9487-68d79fbd4568",
   "metadata": {},
   "outputs": [
    {
     "name": "stdout",
     "output_type": "stream",
     "text": [
      "income: ['<=50K' '>50K']\n"
     ]
    }
   ],
   "source": [
    "print(\"income:\", data['income'].unique())"
   ]
  },
  {
   "cell_type": "code",
   "execution_count": 333,
   "id": "f73f65bb-1a64-4a25-ab33-7fa0937859cc",
   "metadata": {},
   "outputs": [
    {
     "name": "stdout",
     "output_type": "stream",
     "text": [
      "age: [90 82 66 54 41 34 38 74 68 45 52 32 51 46 57 22 37 29 61 21 33 49 23 59\n",
      " 60 63 53 44 43 71 48 73 67 40 50 42 39 55 47 31 58 62 36 72 78 83 26 70\n",
      " 27 35 81 65 25 28 56 69 20 30 24 64 75 19 77 80 18 17 76 79 88 84 85 86\n",
      " 87]\n"
     ]
    }
   ],
   "source": [
    "print(\"age:\", data['age'].unique())"
   ]
  },
  {
   "cell_type": "code",
   "execution_count": 334,
   "id": "fbe32c57-c56c-4800-a9af-2a696c2c0ee0",
   "metadata": {},
   "outputs": [
    {
     "name": "stdout",
     "output_type": "stream",
     "text": [
      "       age         workclass  fnlwgt     education  education.num  \\\n",
      "8453    25           Private  308144     Bachelors             13   \n",
      "8645    90           Private   52386  Some-college             10   \n",
      "12202   21           Private  250051  Some-college             10   \n",
      "14346   20           Private  107658  Some-college             10   \n",
      "15603   25           Private  195994       1st-4th              2   \n",
      "17344   21           Private  243368     Preschool              1   \n",
      "19067   46           Private  173243       HS-grad              9   \n",
      "20388   30           Private  144593       HS-grad              9   \n",
      "20507   19           Private   97261       HS-grad              9   \n",
      "22783   19           Private  138153  Some-college             10   \n",
      "22934   19           Private  146679  Some-college             10   \n",
      "23276   49           Private   31267       7th-8th              4   \n",
      "23660   25           Private  195994       1st-4th              2   \n",
      "23720   44           Private  367749     Bachelors             13   \n",
      "23827   49  Self-emp-not-inc   43479  Some-college             10   \n",
      "26738   23           Private  240137       5th-6th              3   \n",
      "27133   28           Private  274679       Masters             14   \n",
      "28796   27           Private  255582       HS-grad              9   \n",
      "29051   42           Private  204235  Some-college             10   \n",
      "29334   39           Private   30916       HS-grad              9   \n",
      "29604   38           Private  207202       HS-grad              9   \n",
      "31060   46           Private  133616  Some-college             10   \n",
      "32065   19           Private  251579  Some-college             10   \n",
      "32419   35           Private  379959       HS-grad              9   \n",
      "\n",
      "           marital.status         occupation   relationship  \\\n",
      "8453        Never-married       Craft-repair  Not-in-family   \n",
      "8645        Never-married      Other-service  Not-in-family   \n",
      "12202       Never-married     Prof-specialty      Own-child   \n",
      "14346       Never-married       Tech-support  Not-in-family   \n",
      "15603       Never-married    Priv-house-serv  Not-in-family   \n",
      "17344       Never-married    Farming-fishing  Not-in-family   \n",
      "19067  Married-civ-spouse       Craft-repair        Husband   \n",
      "20388       Never-married      Other-service  Not-in-family   \n",
      "20507       Never-married    Farming-fishing  Not-in-family   \n",
      "22783       Never-married       Adm-clerical      Own-child   \n",
      "22934       Never-married    Exec-managerial      Own-child   \n",
      "23276  Married-civ-spouse       Craft-repair        Husband   \n",
      "23660       Never-married    Priv-house-serv  Not-in-family   \n",
      "23720       Never-married     Prof-specialty  Not-in-family   \n",
      "23827  Married-civ-spouse       Craft-repair        Husband   \n",
      "26738       Never-married  Handlers-cleaners  Not-in-family   \n",
      "27133       Never-married     Prof-specialty  Not-in-family   \n",
      "28796       Never-married  Machine-op-inspct  Not-in-family   \n",
      "29051  Married-civ-spouse     Prof-specialty        Husband   \n",
      "29334  Married-civ-spouse       Craft-repair        Husband   \n",
      "29604  Married-civ-spouse  Machine-op-inspct        Husband   \n",
      "31060            Divorced       Adm-clerical      Unmarried   \n",
      "32065       Never-married      Other-service      Own-child   \n",
      "32419            Divorced      Other-service  Not-in-family   \n",
      "\n",
      "                     race     sex  capital.gain  capital.loss  hours.per.week  \\\n",
      "8453                White    Male             0             0              40   \n",
      "8645   Asian-Pac-Islander    Male             0             0              35   \n",
      "12202               White  Female             0             0              10   \n",
      "14346               White  Female             0             0              10   \n",
      "15603               White  Female             0             0              40   \n",
      "17344               White    Male             0             0              50   \n",
      "19067               White    Male             0             0              40   \n",
      "20388               Black    Male             0             0              40   \n",
      "20507               White    Male             0             0              40   \n",
      "22783               White  Female             0             0              10   \n",
      "22934               Black    Male             0             0              30   \n",
      "23276               White    Male             0             0              40   \n",
      "23660               White  Female             0             0              40   \n",
      "23720               White  Female             0             0              45   \n",
      "23827               White    Male             0             0              40   \n",
      "26738               White    Male             0             0              55   \n",
      "27133               White    Male             0             0              50   \n",
      "28796               White  Female             0             0              40   \n",
      "29051               White    Male             0             0              40   \n",
      "29334               White    Male             0             0              40   \n",
      "29604               White    Male             0             0              48   \n",
      "31060               White  Female             0             0              40   \n",
      "32065               White    Male             0             0              14   \n",
      "32419               White  Female             0             0              40   \n",
      "\n",
      "      native.country income  \n",
      "8453          Mexico  <=50K  \n",
      "8645   United-States  <=50K  \n",
      "12202  United-States  <=50K  \n",
      "14346  United-States  <=50K  \n",
      "15603      Guatemala  <=50K  \n",
      "17344         Mexico  <=50K  \n",
      "19067  United-States  <=50K  \n",
      "20388              ?  <=50K  \n",
      "20507  United-States  <=50K  \n",
      "22783  United-States  <=50K  \n",
      "22934  United-States  <=50K  \n",
      "23276  United-States  <=50K  \n",
      "23660      Guatemala  <=50K  \n",
      "23720         Mexico  <=50K  \n",
      "23827  United-States  <=50K  \n",
      "26738         Mexico  <=50K  \n",
      "27133  United-States  <=50K  \n",
      "28796  United-States  <=50K  \n",
      "29051  United-States   >50K  \n",
      "29334  United-States  <=50K  \n",
      "29604  United-States   >50K  \n",
      "31060  United-States  <=50K  \n",
      "32065  United-States  <=50K  \n",
      "32419  United-States  <=50K  \n",
      "Number of duplicate rows: 24\n"
     ]
    }
   ],
   "source": [
    "#### Finding duplicate rows\n",
    "duplicates = data[data.duplicated()]\n",
    "print(duplicates)\n",
    "num_duplicates = data.duplicated().sum()\n",
    "print(f\"Number of duplicate rows: {num_duplicates}\")"
   ]
  },
  {
   "cell_type": "code",
   "execution_count": 335,
   "id": "7715560d-1654-4a80-a36b-f26ed0098fa5",
   "metadata": {},
   "outputs": [
    {
     "data": {
      "image/png": "[encoded data removed]",
      "text/plain": [
       "<Figure size 600x400 with 1 Axes>"
      ]
     },
     "metadata": {},
     "output_type": "display_data"
    },
    {
     "data": {
      "image/png": "[encoded data removed]",
      "text/plain": [
       "<Figure size 600x400 with 1 Axes>"
      ]
     },
     "metadata": {},
     "output_type": "display_data"
    },
    {
     "data": {
      "image/png": "[encoded data removed]",
      "text/plain": [
       "<Figure size 600x400 with 1 Axes>"
      ]
     },
     "metadata": {},
     "output_type": "display_data"
    },
    {
     "data": {
      "image/png": "[encoded data removed]",
      "text/plain": [
       "<Figure size 600x400 with 1 Axes>"
      ]
     },
     "metadata": {},
     "output_type": "display_data"
    },
    {
     "data": {
      "image/png": "[encoded data removed]",
      "text/plain": [
       "<Figure size 600x400 with 1 Axes>"
      ]
     },
     "metadata": {},
     "output_type": "display_data"
    },
    {
     "data": {
      "image/png": "[encoded data removed]",
      "text/plain": [
       "<Figure size 600x400 with 1 Axes>"
      ]
     },
     "metadata": {},
     "output_type": "display_data"
    }
   ],
   "source": [
    "# List of typical integer variables in Adult dataset\n",
    "int_columns = ['age', 'fnlwgt', 'education.num', 'capital.gain', 'capital.loss', 'hours.per.week']\n",
    "\n",
    "# Check which columns actually exist in your dataframe\n",
    "existing_int_columns = [col for col in int_columns if col in data.columns]\n",
    "\n",
    "# Plot each boxplot separately\n",
    "for col in existing_int_columns:\n",
    "    plt.figure(figsize=(6, 4))\n",
    "    sns.boxplot(y=data[col])\n",
    "    plt.title(f'Boxplot of {col}')\n",
    "    plt.ylabel(col)\n",
    "    plt.show()"
   ]
  },
  {
   "cell_type": "code",
   "execution_count": 336,
   "id": "f9b0719a-ac3a-4796-9e03-3c1bc016efd4",
   "metadata": {},
   "outputs": [],
   "source": [
    "########## Pre-processing steps starts from here ##########\n",
    "\n",
    "### 1. Removing duplicate rows\n",
    "df_adult_income = data.drop_duplicates()\n"
   ]
  },
  {
   "cell_type": "code",
   "execution_count": 337,
   "id": "77097745-a04a-417d-ad3d-0d7a5ecf439f",
   "metadata": {},
   "outputs": [],
   "source": [
    "### 2. Renaming the column name 'fnlwgt' to a better name for clear understanding \n",
    "df_adult_income = df_adult_income.rename(columns={'fnlwgt': 'population.weight'})"
   ]
  },
  {
   "cell_type": "code",
   "execution_count": 338,
   "id": "de530bbf-9373-461d-b696-8d5ab589871d",
   "metadata": {},
   "outputs": [],
   "source": [
    "### 3. Renaming the column name 'education.num' to a better name for clear understanding \n",
    "df_adult_income = df_adult_income.rename(columns={'education.num': 'years.of.education'})"
   ]
  },
  {
   "cell_type": "code",
   "execution_count": 339,
   "id": "ec9f679b-b936-4460-9317-24982a04e782",
   "metadata": {},
   "outputs": [],
   "source": [
    "### 4. Completing the country names for better understanding \n",
    "df_adult_income['native.country'] = df_adult_income['native.country'].replace('South', 'South-Korea')\n",
    "df_adult_income['native.country'] = df_adult_income['native.country'].replace('Hong', 'Hong-Kong')"
   ]
  },
  {
   "cell_type": "code",
   "execution_count": 340,
   "id": "4be62510-83c1-4778-b6aa-6daa957e0ed6",
   "metadata": {},
   "outputs": [],
   "source": [
    "### 5. Randomly modifying the column 'sex' values and then trying to fix them. \n",
    "sample_indices = df_adult_income.sample(n=2000, random_state=42).index\n",
    "df_adult_income.loc[sample_indices, 'sex'] = df_adult_income.loc[sample_indices, 'sex'].replace({'Male': 'M', 'Female': 'F'})\n",
    "df_adult_income['sex'] = df_adult_income['sex'].replace({'M': 'Male', 'F': 'Female'})\n"
   ]
  },
  {
   "cell_type": "code",
   "execution_count": 341,
   "id": "2d8c7c47-b873-4116-8d39-9523cba9fff2",
   "metadata": {},
   "outputs": [
    {
     "name": "stdout",
     "output_type": "stream",
     "text": [
      "Number of rows with country = '?': 582\n"
     ]
    }
   ],
   "source": [
    "### 6. Removing country rows where values are null\n",
    "# Count rows where country == '?'\n",
    "num_question_mark = (df_adult_income['native.country'] == '?').sum()\n",
    "print(f\"Number of rows with country = '?': {num_question_mark}\")"
   ]
  },
  {
   "cell_type": "code",
   "execution_count": 342,
   "id": "bfc128a1-f9fa-43c7-8337-d285fbfac9ef",
   "metadata": {},
   "outputs": [
    {
     "name": "stdout",
     "output_type": "stream",
     "text": [
      "Shape after removing '?': (31955, 15)\n"
     ]
    }
   ],
   "source": [
    "### 7. Keep only rows where the country is not '?'\n",
    "df_adult_income= df_adult_income[df_adult_income['native.country'] != '?']\n",
    "print(f\"Shape after removing '?': {df_adult_income.shape}\")"
   ]
  },
  {
   "cell_type": "code",
   "execution_count": 343,
   "id": "d5b3e7f7-22dd-468a-bd7e-96d09e20309b",
   "metadata": {},
   "outputs": [
    {
     "name": "stdout",
     "output_type": "stream",
     "text": [
      "Missing values after imputation:\n",
      "workclass: 0\n",
      "occupation: 0\n"
     ]
    }
   ],
   "source": [
    "### 8. Filling in missing values for the columns 'workclass' and 'occupation' using DecisionTree Classifier\n",
    "\n",
    "df = df_adult_income.copy()\n",
    "\n",
    "# Replace '?' with NaN\n",
    "df.replace('?', np.nan, inplace=True)\n",
    "\n",
    "# Define features to use for prediction\n",
    "features = ['education', 'marital.status', 'relationship', 'race',\n",
    "            'sex', 'native.country', 'age', 'population.weight',\n",
    "            'capital.gain', 'capital.loss', 'hours.per.week']\n",
    "\n",
    "def impute_missing_column(df, target_col, features):\n",
    "    df_copy = df.copy()\n",
    "    \n",
    "    # Encode target column\n",
    "    le_target = LabelEncoder()\n",
    "    \n",
    "    # Split known and unknown\n",
    "    df_known = df_copy[df_copy[target_col].notna()].copy()\n",
    "    df_unknown = df_copy[df_copy[target_col].isna()].copy()\n",
    "    \n",
    "    # Drop rows where features are missing\n",
    "    df_known = df_known.dropna(subset=features)\n",
    "    \n",
    "    # Encode target\n",
    "    df_known[target_col + '_encoded'] = le_target.fit_transform(df_known[target_col])\n",
    "    \n",
    "    # Encode categorical features\n",
    "    df_encoded = df_known[features].copy()\n",
    "    for col in df_encoded.select_dtypes(include='object').columns:\n",
    "        df_encoded[col] = LabelEncoder().fit_transform(df_encoded[col])\n",
    "    \n",
    "    # Train the decision tree\n",
    "    tree = DecisionTreeClassifier(random_state=42)\n",
    "    tree.fit(df_encoded, df_known[target_col + '_encoded'])\n",
    "    \n",
    "    # Prepare unknown data\n",
    "    df_unknown_filled = df_unknown[features].copy()\n",
    "    for col in df_unknown_filled.select_dtypes(include='object').columns:\n",
    "        df_unknown_filled[col] = LabelEncoder().fit_transform(df_unknown_filled[col].fillna('Unknown'))\n",
    "    \n",
    "    # Fill any remaining missing numeric values (just in case)\n",
    "    df_unknown_filled = df_unknown_filled.fillna(df_encoded.mean(numeric_only=True))\n",
    "    \n",
    "    # Predict\n",
    "    preds = tree.predict(df_unknown_filled)\n",
    "    \n",
    "    # Fill in the original DataFrame\n",
    "    df.loc[df[target_col].isna(), target_col] = le_target.inverse_transform(preds)\n",
    "\n",
    "# Impute 'workclass'\n",
    "impute_missing_column(df, 'workclass', features)\n",
    "\n",
    "# Now, include 'workclass' as a feature to predict 'occupation'\n",
    "features_with_workclass = features + ['workclass']\n",
    "impute_missing_column(df, 'occupation', features_with_workclass)\n",
    "\n",
    "print(\"Missing values after imputation:\")\n",
    "print(\"workclass:\", df['workclass'].isna().sum())\n",
    "print(\"occupation:\", df['occupation'].isna().sum())\n"
   ]
  },
  {
   "cell_type": "code",
   "execution_count": 344,
   "id": "41cae485-53f1-4991-af8e-76f5cefb3c1a",
   "metadata": {},
   "outputs": [],
   "source": [
    "### 9. log1p (log(x+1)) to skewed variables\n",
    "\n",
    "# Applying log1p (log(x+1)) to skewed variables\n",
    "df['population.weight'] = np.log1p(df['population.weight'])\n",
    "df['capital.gain'] = np.log1p(df['capital.gain'])\n",
    "df['capital.loss'] = np.log1p(df['capital.loss'])\n",
    "\n"
   ]
  },
  {
   "cell_type": "code",
   "execution_count": 345,
   "id": "a77c03da-039d-4566-8c41-056dfe038bde",
   "metadata": {},
   "outputs": [
    {
     "name": "stdout",
     "output_type": "stream",
     "text": [
      "   age  population.weight  years.of.education  capital.gain  capital.loss  \\\n",
      "0   90          11.252262                   9           0.0      8.379539   \n",
      "1   82          11.797134                   9           0.0      8.379539   \n",
      "2   66          12.133835                  10           0.0      8.379539   \n",
      "3   54          11.851966                   4           0.0      8.268988   \n",
      "4   41          12.486216                  10           0.0      8.268988   \n",
      "\n",
      "   hours.per.week  income  workclass_Local-gov  workclass_Never-worked  \\\n",
      "0              40       0                    0                       0   \n",
      "1              18       0                    0                       0   \n",
      "2              40       0                    1                       0   \n",
      "3              40       0                    0                       0   \n",
      "4              40       0                    0                       0   \n",
      "\n",
      "   workclass_Private  ...  native.country_Portugal  \\\n",
      "0                  0  ...                        0   \n",
      "1                  1  ...                        0   \n",
      "2                  0  ...                        0   \n",
      "3                  1  ...                        0   \n",
      "4                  1  ...                        0   \n",
      "\n",
      "   native.country_Puerto-Rico  native.country_Scotland  \\\n",
      "0                           0                        0   \n",
      "1                           0                        0   \n",
      "2                           0                        0   \n",
      "3                           0                        0   \n",
      "4                           0                        0   \n",
      "\n",
      "   native.country_South-Korea  native.country_Taiwan  native.country_Thailand  \\\n",
      "0                           0                      0                        0   \n",
      "1                           0                      0                        0   \n",
      "2                           0                      0                        0   \n",
      "3                           0                      0                        0   \n",
      "4                           0                      0                        0   \n",
      "\n",
      "   native.country_Trinadad&Tobago  native.country_United-States  \\\n",
      "0                               0                             1   \n",
      "1                               0                             1   \n",
      "2                               0                             1   \n",
      "3                               0                             1   \n",
      "4                               0                             1   \n",
      "\n",
      "   native.country_Vietnam  native.country_Yugoslavia  \n",
      "0                       0                          0  \n",
      "1                       0                          0  \n",
      "2                       0                          0  \n",
      "3                       0                          0  \n",
      "4                       0                          0  \n",
      "\n",
      "[5 rows x 98 columns]\n",
      "   age  population.weight  years.of.education  capital.gain  capital.loss  \\\n",
      "0   90          11.252262                   9           0.0      8.379539   \n",
      "1   82          11.797134                   9           0.0      8.379539   \n",
      "2   66          12.133835                  10           0.0      8.379539   \n",
      "3   54          11.851966                   4           0.0      8.268988   \n",
      "4   41          12.486216                  10           0.0      8.268988   \n",
      "\n",
      "   hours.per.week  income  workclass_Federal-gov  workclass_Local-gov  \\\n",
      "0              40       0                      0                    0   \n",
      "1              18       0                      0                    0   \n",
      "2              40       0                      0                    1   \n",
      "3              40       0                      0                    0   \n",
      "4              40       0                      0                    0   \n",
      "\n",
      "   workclass_Never-worked  ...  native.country_Portugal  \\\n",
      "0                       0  ...                        0   \n",
      "1                       0  ...                        0   \n",
      "2                       0  ...                        0   \n",
      "3                       0  ...                        0   \n",
      "4                       0  ...                        0   \n",
      "\n",
      "   native.country_Puerto-Rico  native.country_Scotland  \\\n",
      "0                           0                        0   \n",
      "1                           0                        0   \n",
      "2                           0                        0   \n",
      "3                           0                        0   \n",
      "4                           0                        0   \n",
      "\n",
      "   native.country_South-Korea  native.country_Taiwan  native.country_Thailand  \\\n",
      "0                           0                      0                        0   \n",
      "1                           0                      0                        0   \n",
      "2                           0                      0                        0   \n",
      "3                           0                      0                        0   \n",
      "4                           0                      0                        0   \n",
      "\n",
      "   native.country_Trinadad&Tobago  native.country_United-States  \\\n",
      "0                               0                             1   \n",
      "1                               0                             1   \n",
      "2                               0                             1   \n",
      "3                               0                             1   \n",
      "4                               0                             1   \n",
      "\n",
      "   native.country_Vietnam  native.country_Yugoslavia  \n",
      "0                       0                          0  \n",
      "1                       0                          0  \n",
      "2                       0                          0  \n",
      "3                       0                          0  \n",
      "4                       0                          0  \n",
      "\n",
      "[5 rows x 106 columns]\n",
      "Encoded values in df_logistic_regression['income']: [0 1]\n",
      "Encoded values in df_neural_network['income']: [0 1]\n"
     ]
    }
   ],
   "source": [
    "### 10. One hot encoding the categorical columns\n",
    "\n",
    "\n",
    "categorical_cols = ['workclass', 'occupation', 'education', 'marital.status',\n",
    "                    'relationship', 'race', 'sex', 'native.country']\n",
    "\n",
    "# One-hot encode all categorical variables\n",
    "# For logistic regression\n",
    "df_logistic_regression = pd.get_dummies(df, columns=categorical_cols, drop_first=True, dtype=int)\n",
    "\n",
    "# For neural network\n",
    "df_neural_network = pd.get_dummies(df, columns=categorical_cols, drop_first=False, dtype=int)\n",
    "\n",
    "# Encode target variable (if it's not already numeric)\n",
    "df_logistic_regression['income'] = df_logistic_regression['income'].map({'<=50K': 0, '>50K': 1})\n",
    "df_neural_network['income'] = df_neural_network['income'].map({'<=50K': 0, '>50K': 1})\n",
    "\n",
    "# Check encoded DataFrame\n",
    "print(df_logistic_regression.head())\n",
    "print(df_neural_network.head())\n",
    "\n",
    "print(\"Encoded values in df_logistic_regression['income']:\", df_logistic_regression['income'].unique())\n",
    "print(\"Encoded values in df_neural_network['income']:\", df_neural_network['income'].unique())\n"
   ]
  },
  {
   "cell_type": "code",
   "execution_count": 346,
   "id": "7e99416a-b8e8-4ca9-a938-82a9626b32b6",
   "metadata": {},
   "outputs": [
    {
     "name": "stdout",
     "output_type": "stream",
     "text": [
      "Best hyperparameter C: 1\n",
      "Best cross-validated F1 score: 0.6732\n",
      "\n",
      "Final test set performance with best hyperparameters:\n",
      "Accuracy: 0.8025\n",
      "\n",
      "Confusion Matrix:\n",
      "[[3832 1020]\n",
      " [ 242 1297]]\n",
      "\n",
      "Classification Report:\n",
      "              precision    recall  f1-score   support\n",
      "\n",
      "           0       0.94      0.79      0.86      4852\n",
      "           1       0.56      0.84      0.67      1539\n",
      "\n",
      "    accuracy                           0.80      6391\n",
      "   macro avg       0.75      0.82      0.77      6391\n",
      "weighted avg       0.85      0.80      0.81      6391\n",
      "\n"
     ]
    }
   ],
   "source": [
    "########## LOGISTIC REGRESSION  MODEL IMPLEMENTATION ##########\n",
    "\n",
    "# 1. Split into features and target\n",
    "X = df_logistic_regression.drop('income', axis=1)\n",
    "y = df_logistic_regression['income']\n",
    "\n",
    "# 2. Train/test split\n",
    "X_train, X_test, y_train, y_test = train_test_split(\n",
    "    X, y, test_size=0.2, random_state=20, stratify=y)\n",
    "\n",
    "# 3. Define pipeline: scaler + SMOTE + logistic regression\n",
    "pipeline = Pipeline([\n",
    "    ('scaler', StandardScaler()),\n",
    "    ('smote', SMOTE(random_state=42)),\n",
    "    ('clf', LogisticRegression(max_iter=1000, random_state=96))\n",
    "])\n",
    "\n",
    "# 4. Define hyperparameters to tune\n",
    "param_grid = {\n",
    "    'clf__C': [0.01, 0.1, 1, 10]\n",
    "}\n",
    "\n",
    "# 5. Define 4-fold stratified cross-validation\n",
    "cv = StratifiedKFold(n_splits=4, shuffle=True, random_state=10)\n",
    "\n",
    "# 6. Use GridSearchCV to perform hyperparameter tuning with cross-validation\n",
    "grid_search = GridSearchCV(\n",
    "    estimator=pipeline,\n",
    "    param_grid=param_grid,\n",
    "    cv=cv,\n",
    "    scoring='f1',            # choose metric to optimize; can also use 'accuracy', etc.\n",
    "    n_jobs=-1\n",
    ")\n",
    "\n",
    "# 7. Fit GridSearchCV on training data\n",
    "grid_search.fit(X_train, y_train)\n",
    "\n",
    "# 8. Print best hyperparameter and corresponding score\n",
    "print(\"Best hyperparameter C:\", grid_search.best_params_['clf__C'])\n",
    "print(f\"Best cross-validated F1 score: {grid_search.best_score_:.4f}\")\n",
    "\n",
    "# 9. Evaluate the best model on the test set\n",
    "best_model = grid_search.best_estimator_\n",
    "y_pred = best_model.predict(X_test)\n",
    "y_pred_logistic = y_pred\n",
    "\n",
    "accuracy = accuracy_score(y_test, y_pred)\n",
    "conf_matrix = confusion_matrix(y_test, y_pred)\n",
    "report = classification_report(y_test, y_pred)\n",
    "\n",
    "print(\"\\nFinal test set performance with best hyperparameters:\")\n",
    "print(f\"Accuracy: {accuracy:.4f}\")\n",
    "print(\"\\nConfusion Matrix:\")\n",
    "print(conf_matrix)\n",
    "print(\"\\nClassification Report:\")\n",
    "print(report)\n"
   ]
  },
  {
   "cell_type": "code",
   "execution_count": 347,
   "id": "ef09f99e-2359-490f-925b-050abccc0eb2",
   "metadata": {},
   "outputs": [
    {
     "name": "stdout",
     "output_type": "stream",
     "text": [
      "Best hyperparameters: {'clf__alpha': 0.01, 'clf__hidden_layer_sizes': (50,), 'clf__learning_rate_init': 0.01}\n",
      "Best cross-validated F1 score: 0.6527\n",
      "\n",
      "Final test set performance with best hyperparameters:\n",
      "Accuracy: 0.8163\n",
      "\n",
      "Confusion Matrix:\n",
      "[[4002  850]\n",
      " [ 324 1215]]\n",
      "\n",
      "Classification Report:\n",
      "              precision    recall  f1-score   support\n",
      "\n",
      "           0       0.93      0.82      0.87      4852\n",
      "           1       0.59      0.79      0.67      1539\n",
      "\n",
      "    accuracy                           0.82      6391\n",
      "   macro avg       0.76      0.81      0.77      6391\n",
      "weighted avg       0.84      0.82      0.82      6391\n",
      "\n"
     ]
    }
   ],
   "source": [
    "########## NEURAL NETWORK MODEL IMPLEMENTATION ##########\n",
    "\n",
    "\n",
    "# 1. Split into features and target\n",
    "X = df_neural_network.drop('income', axis=1)\n",
    "y = df_neural_network['income']\n",
    "\n",
    "# 2. Train/test split with stratification\n",
    "X_train, X_test, y_train, y_test = train_test_split(\n",
    "    X, y, test_size=0.2, random_state=20, stratify=y)\n",
    "\n",
    "# 3. Define pipeline: scaler + SMOTE + MLPClassifier (neural network)\n",
    "pipeline = Pipeline([\n",
    "    ('scaler', StandardScaler()),\n",
    "    ('smote', SMOTE(random_state=42)),\n",
    "    ('clf', MLPClassifier(max_iter=1000, random_state=50))\n",
    "])\n",
    "\n",
    "# 4. Define hyperparameters to tune\n",
    "param_grid = {\n",
    "    'clf__hidden_layer_sizes': [(50,), (100,), (50, 50)],  # try different network sizes\n",
    "    'clf__alpha': [0.0001, 0.001, 0.01],                  # regularization strength\n",
    "    'clf__learning_rate_init': [0.001, 0.01]               # initial learning rate\n",
    "}\n",
    "\n",
    "# 5. Define 4-fold stratified cross-validation\n",
    "cv = StratifiedKFold(n_splits=4, shuffle=True, random_state=96)\n",
    "\n",
    "# 6. Use GridSearchCV for hyperparameter tuning\n",
    "grid_search = GridSearchCV(\n",
    "    estimator=pipeline,\n",
    "    param_grid=param_grid,\n",
    "    cv=cv,\n",
    "    scoring='f1',        # optimize for F1 score (balanced metric)\n",
    "    n_jobs=-1\n",
    ")\n",
    "\n",
    "# 7. Fit GridSearchCV on training data\n",
    "grid_search.fit(X_train, y_train)\n",
    "\n",
    "# 8. Print best hyperparameters and corresponding score\n",
    "print(\"Best hyperparameters:\", grid_search.best_params_)\n",
    "print(f\"Best cross-validated F1 score: {grid_search.best_score_:.4f}\")\n",
    "\n",
    "# 9. Evaluate best model on test data\n",
    "best_model = grid_search.best_estimator_\n",
    "y_pred = best_model.predict(X_test)\n",
    "y_pred_nn = y_pred\n",
    "\n",
    "accuracy = accuracy_score(y_test, y_pred)\n",
    "conf_matrix = confusion_matrix(y_test, y_pred)\n",
    "report = classification_report(y_test, y_pred)\n",
    "\n",
    "print(\"\\nFinal test set performance with best hyperparameters:\")\n",
    "print(f\"Accuracy: {accuracy:.4f}\")\n",
    "print(\"\\nConfusion Matrix:\")\n",
    "print(conf_matrix)\n",
    "print(\"\\nClassification Report:\")\n",
    "print(report)\n"
   ]
  },
  {
   "cell_type": "code",
   "execution_count": 348,
   "id": "87fadf34-154d-4d8b-9dbb-4d5adb2966ca",
   "metadata": {},
   "outputs": [
    {
     "name": "stdout",
     "output_type": "stream",
     "text": [
      "Baseline performance (predict majority class):\n",
      "Accuracy: 0.7592\n",
      "\n",
      "Confusion Matrix:\n",
      "[[4852    0]\n",
      " [1539    0]]\n",
      "\n",
      "Classification Report:\n",
      "              precision    recall  f1-score   support\n",
      "\n",
      "           0       0.76      1.00      0.86      4852\n",
      "           1       0.00      0.00      0.00      1539\n",
      "\n",
      "    accuracy                           0.76      6391\n",
      "   macro avg       0.38      0.50      0.43      6391\n",
      "weighted avg       0.58      0.76      0.66      6391\n",
      "\n"
     ]
    },
    {
     "name": "stderr",
     "output_type": "stream",
     "text": [
      "/Library/Frameworks/Python.framework/Versions/3.11/lib/python3.11/site-packages/sklearn/metrics/_classification.py:1531: UndefinedMetricWarning: Precision is ill-defined and being set to 0.0 in labels with no predicted samples. Use `zero_division` parameter to control this behavior.\n",
      "  _warn_prf(average, modifier, f\"{metric.capitalize()} is\", len(result))\n",
      "/Library/Frameworks/Python.framework/Versions/3.11/lib/python3.11/site-packages/sklearn/metrics/_classification.py:1531: UndefinedMetricWarning: Precision is ill-defined and being set to 0.0 in labels with no predicted samples. Use `zero_division` parameter to control this behavior.\n",
      "  _warn_prf(average, modifier, f\"{metric.capitalize()} is\", len(result))\n",
      "/Library/Frameworks/Python.framework/Versions/3.11/lib/python3.11/site-packages/sklearn/metrics/_classification.py:1531: UndefinedMetricWarning: Precision is ill-defined and being set to 0.0 in labels with no predicted samples. Use `zero_division` parameter to control this behavior.\n",
      "  _warn_prf(average, modifier, f\"{metric.capitalize()} is\", len(result))\n"
     ]
    }
   ],
   "source": [
    "########## BASELINE MODEL IMPLEMENTATION ##########\n",
    "\n",
    "baseline = DummyClassifier(strategy='most_frequent', random_state=96)\n",
    "baseline.fit(X_train, y_train)\n",
    "y_pred = baseline.predict(X_test)\n",
    "y_pred_baseline = y_pred\n",
    "\n",
    "from sklearn.metrics import classification_report, confusion_matrix, accuracy_score\n",
    "\n",
    "print(\"Baseline performance (predict majority class):\")\n",
    "print(f\"Accuracy: {accuracy_score(y_test, y_pred):.4f}\")\n",
    "print(\"\\nConfusion Matrix:\")\n",
    "print(confusion_matrix(y_test, y_pred))\n",
    "print(\"\\nClassification Report:\")\n",
    "print(classification_report(y_test, y_pred))"
   ]
  },
  {
   "cell_type": "code",
   "execution_count": 349,
   "id": "79624838-7c46-4740-a493-8626cd9df9b9",
   "metadata": {},
   "outputs": [
    {
     "name": "stdout",
     "output_type": "stream",
     "text": [
      "**Comparison summary:**\n",
      "                 Model  Accuracy  F1 (class 1)  Recall (class 1)  \\\n",
      "0  Baseline (Majority)    0.7592        0.0000            0.0000   \n",
      "1  Logistic Regression    0.8025        0.6727            0.8428   \n",
      "2       Neural Network    0.8163        0.6743            0.7895   \n",
      "\n",
      "   Precision (class 1)  \n",
      "0               0.0000  \n",
      "1               0.5598  \n",
      "2               0.5884  \n"
     ]
    }
   ],
   "source": [
    "########## MODEL COMPARISON BETWEEN LOGISTICS, NEURAL NETWORK AND BASELINE MODEL ##########\n",
    "\n",
    "def evaluate_model(name, y_true, y_pred):\n",
    "    acc = accuracy_score(y_true, y_pred)\n",
    "    report = classification_report(y_true, y_pred, output_dict=True, zero_division=0)\n",
    "    return {\n",
    "        'Model': name,\n",
    "        'Accuracy': round(acc, 4),\n",
    "        'F1 (class 1)': round(report['1']['f1-score'], 4),\n",
    "        'Recall (class 1)': round(report['1']['recall'], 4),\n",
    "        'Precision (class 1)': round(report['1']['precision'], 4)\n",
    "    }\n",
    "\n",
    "results = [\n",
    "    evaluate_model('Baseline (Majority)', y_test, y_pred_baseline),\n",
    "    evaluate_model('Logistic Regression', y_test, y_pred_logistic),\n",
    "    evaluate_model('Neural Network', y_test, y_pred_nn)\n",
    "]\n",
    "\n",
    "summary_df = pd.DataFrame(results)\n",
    "\n",
    "print(\"**Comparison summary:**\")\n",
    "print(summary_df)\n"
   ]
  },
  {
   "cell_type": "code",
   "execution_count": 352,
   "id": "bec6a5b3-895f-4408-afbf-8f75d41ff3a5",
   "metadata": {},
   "outputs": [
    {
     "data": {
      "image/png": "[encoded data removed]",
      "text/plain": [
       "<Figure size 1200x600 with 1 Axes>"
      ]
     },
     "metadata": {},
     "output_type": "display_data"
    }
   ],
   "source": [
    "########## MODEL COMPARISON VISUALIZATION ##########\n",
    "\n",
    "\n",
    "# Define metrics as a list of dicts for each model\n",
    "results = [\n",
    "    {\n",
    "        'model': 'Logistic Regression',\n",
    "        'accuracy': 0.8025,\n",
    "        'precision': 0.5598,\n",
    "        'recall': 0.8428,\n",
    "        'f1': 0.6727\n",
    "    },\n",
    "    {\n",
    "        'model': 'Neural Network',\n",
    "        'accuracy': 0.8163,\n",
    "        'precision': 0.5884,\n",
    "        'recall': 0.7895,\n",
    "        'f1': 0.6743\n",
    "    },\n",
    "    {\n",
    "        'model': 'Baseline',\n",
    "        'accuracy': 0.7592,\n",
    "        'precision': 0.0000,\n",
    "        'recall': 0.0000,\n",
    "        'f1': 0.0000\n",
    "    }\n",
    "]\n",
    "\n",
    "# Extract metric names dynamically\n",
    "metric_names = ['accuracy', 'precision', 'recall', 'f1']\n",
    "models = [r['model'] for r in results]\n",
    "\n",
    "# Prepare data for each metric\n",
    "metrics_values = {metric: [r[metric] for r in results] for metric in metric_names}\n",
    "\n",
    "# Bar settings\n",
    "bar_width = 0.18\n",
    "positions = np.arange(len(models))\n",
    "# Compute positions for each metric\n",
    "all_positions = [\n",
    "    [pos + i*bar_width for pos in positions]\n",
    "    for i in range(len(metric_names))\n",
    "]\n",
    "\n",
    "plt.figure(figsize=(12,6))\n",
    "\n",
    "colors = ['skyblue', 'lightgreen', 'salmon', 'mediumpurple']\n",
    "\n",
    "# Plot each metric\n",
    "for idx, metric in enumerate(metric_names):\n",
    "    plt.bar(\n",
    "        all_positions[idx],\n",
    "        metrics_values[metric],\n",
    "        color=colors[idx],\n",
    "        width=bar_width,\n",
    "        edgecolor='black',\n",
    "        label=metric.capitalize()\n",
    "    )\n",
    "\n",
    "# Add text labels on top of bars\n",
    "for idx, metric in enumerate(metric_names):\n",
    "    for i, v in enumerate(metrics_values[metric]):\n",
    "        plt.text(all_positions[idx][i]-0.05, v+0.01, f\"{v:.2f}\", fontweight='bold', fontsize=9)\n",
    "\n",
    "# Labels and title\n",
    "plt.xlabel('Models', fontweight='bold')\n",
    "plt.ylabel('Score')\n",
    "plt.title('Comparison of Model Performance')\n",
    "plt.xticks([pos + (bar_width*(len(metric_names)-1)/2) for pos in positions], models)\n",
    "plt.ylim(0,1)\n",
    "plt.legend()\n",
    "plt.tight_layout()\n",
    "\n",
    "plt.show()\n"
   ]
  },
  {
   "cell_type": "code",
   "execution_count": null,
   "id": "5882a9e1-73b6-4418-b7d5-7cefffd96c74",
   "metadata": {},
   "outputs": [],
   "source": []
  }
 ],
 "metadata": {
  "kernelspec": {
   "display_name": "Python 3 (ipykernel)",
   "language": "python",
   "name": "python3"
  },
  "language_info": {
   "codemirror_mode": {
    "name": "ipython",
    "version": 3
   },
   "file_extension": ".py",
   "mimetype": "text/x-python",
   "name": "python",
   "nbconvert_exporter": "python",
   "pygments_lexer": "ipython3",
   "version": "3.11.9"
  }
 },
 "nbformat": 4,
 "nbformat_minor": 5
}
