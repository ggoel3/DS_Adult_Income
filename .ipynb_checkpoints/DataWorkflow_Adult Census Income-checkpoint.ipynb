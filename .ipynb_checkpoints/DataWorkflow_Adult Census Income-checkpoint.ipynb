{
 "cells": [
  {
   "cell_type": "code",
   "execution_count": 40,
   "id": "761378ce-42ce-44a6-87d1-ef082dc7e9b5",
   "metadata": {},
   "outputs": [
    {
     "name": "stdout",
     "output_type": "stream",
     "text": [
      "Collecting scikit-learn\n",
      "  Using cached scikit_learn-1.7.0-cp313-cp313-win_amd64.whl.metadata (14 kB)\n",
      "Requirement already satisfied: numpy>=1.22.0 in c:\\users\\romak\\appdata\\local\\programs\\python\\python313\\lib\\site-packages (from scikit-learn) (2.3.1)\n",
      "Collecting scipy>=1.8.0 (from scikit-learn)\n",
      "  Downloading scipy-1.16.0-cp313-cp313-win_amd64.whl.metadata (60 kB)\n",
      "Collecting joblib>=1.2.0 (from scikit-learn)\n",
      "  Using cached joblib-1.5.1-py3-none-any.whl.metadata (5.6 kB)\n",
      "Collecting threadpoolctl>=3.1.0 (from scikit-learn)\n",
      "  Using cached threadpoolctl-3.6.0-py3-none-any.whl.metadata (13 kB)\n",
      "Using cached scikit_learn-1.7.0-cp313-cp313-win_amd64.whl (10.7 MB)\n",
      "Using cached joblib-1.5.1-py3-none-any.whl (307 kB)\n",
      "Downloading scipy-1.16.0-cp313-cp313-win_amd64.whl (38.4 MB)\n",
      "   ---------------------------------------- 0.0/38.4 MB ? eta -:--:--\n",
      "   ---- ----------------------------------- 4.5/38.4 MB 24.0 MB/s eta 0:00:02\n",
      "   ------------ --------------------------- 12.1/38.4 MB 30.4 MB/s eta 0:00:01\n",
      "   --------------------- ------------------ 21.0/38.4 MB 34.5 MB/s eta 0:00:01\n",
      "   ----------------------------- ---------- 28.6/38.4 MB 35.0 MB/s eta 0:00:01\n",
      "   -------------------------------------- - 37.0/38.4 MB 36.1 MB/s eta 0:00:01\n",
      "   ---------------------------------------- 38.4/38.4 MB 32.7 MB/s eta 0:00:00\n",
      "Using cached threadpoolctl-3.6.0-py3-none-any.whl (18 kB)\n",
      "Installing collected packages: threadpoolctl, scipy, joblib, scikit-learn\n",
      "\n",
      "   ---------- ----------------------------- 1/4 [scipy]\n",
      "   ---------- ----------------------------- 1/4 [scipy]\n",
      "   ---------- ----------------------------- 1/4 [scipy]\n",
      "   ---------- ----------------------------- 1/4 [scipy]\n",
      "   ---------- ----------------------------- 1/4 [scipy]\n",
      "   ---------- ----------------------------- 1/4 [scipy]\n",
      "   ---------- ----------------------------- 1/4 [scipy]\n",
      "   ---------- ----------------------------- 1/4 [scipy]\n",
      "   ---------- ----------------------------- 1/4 [scipy]\n",
      "   ---------- ----------------------------- 1/4 [scipy]\n",
      "   ---------- ----------------------------- 1/4 [scipy]\n",
      "   ---------- ----------------------------- 1/4 [scipy]\n",
      "   ---------- ----------------------------- 1/4 [scipy]\n",
      "   ---------- ----------------------------- 1/4 [scipy]\n",
      "   ---------- ----------------------------- 1/4 [scipy]\n",
      "   ---------- ----------------------------- 1/4 [scipy]\n",
      "   ---------- ----------------------------- 1/4 [scipy]\n",
      "   ---------- ----------------------------- 1/4 [scipy]\n",
      "   ---------- ----------------------------- 1/4 [scipy]\n",
      "   ---------- ----------------------------- 1/4 [scipy]\n",
      "   ---------- ----------------------------- 1/4 [scipy]\n",
      "   ---------- ----------------------------- 1/4 [scipy]\n",
      "   ---------- ----------------------------- 1/4 [scipy]\n",
      "   ---------- ----------------------------- 1/4 [scipy]\n",
      "   ---------- ----------------------------- 1/4 [scipy]\n",
      "   ---------- ----------------------------- 1/4 [scipy]\n",
      "   ---------- ----------------------------- 1/4 [scipy]\n",
      "   ---------- ----------------------------- 1/4 [scipy]\n",
      "   ---------- ----------------------------- 1/4 [scipy]\n",
      "   ---------- ----------------------------- 1/4 [scipy]\n",
      "   ---------- ----------------------------- 1/4 [scipy]\n",
      "   ---------- ----------------------------- 1/4 [scipy]\n",
      "   ---------- ----------------------------- 1/4 [scipy]\n",
      "   ---------- ----------------------------- 1/4 [scipy]\n",
      "   ---------- ----------------------------- 1/4 [scipy]\n",
      "   ---------- ----------------------------- 1/4 [scipy]\n",
      "   ---------- ----------------------------- 1/4 [scipy]\n",
      "   ---------- ----------------------------- 1/4 [scipy]\n",
      "   ---------- ----------------------------- 1/4 [scipy]\n",
      "   ---------- ----------------------------- 1/4 [scipy]\n",
      "   ---------- ----------------------------- 1/4 [scipy]\n",
      "   ---------- ----------------------------- 1/4 [scipy]\n",
      "   ---------- ----------------------------- 1/4 [scipy]\n",
      "   ---------- ----------------------------- 1/4 [scipy]\n",
      "   ---------- ----------------------------- 1/4 [scipy]\n",
      "   ---------- ----------------------------- 1/4 [scipy]\n",
      "   ---------- ----------------------------- 1/4 [scipy]\n",
      "   ---------- ----------------------------- 1/4 [scipy]\n",
      "   ---------- ----------------------------- 1/4 [scipy]\n",
      "   -------------------- ------------------- 2/4 [joblib]\n",
      "   -------------------- ------------------- 2/4 [joblib]\n",
      "   ------------------------------ --------- 3/4 [scikit-learn]\n",
      "   ------------------------------ --------- 3/4 [scikit-learn]\n",
      "   ------------------------------ --------- 3/4 [scikit-learn]\n",
      "   ------------------------------ --------- 3/4 [scikit-learn]\n",
      "   ------------------------------ --------- 3/4 [scikit-learn]\n",
      "   ------------------------------ --------- 3/4 [scikit-learn]\n",
      "   ------------------------------ --------- 3/4 [scikit-learn]\n",
      "   ------------------------------ --------- 3/4 [scikit-learn]\n",
      "   ------------------------------ --------- 3/4 [scikit-learn]\n",
      "   ------------------------------ --------- 3/4 [scikit-learn]\n",
      "   ------------------------------ --------- 3/4 [scikit-learn]\n",
      "   ------------------------------ --------- 3/4 [scikit-learn]\n",
      "   ------------------------------ --------- 3/4 [scikit-learn]\n",
      "   ------------------------------ --------- 3/4 [scikit-learn]\n",
      "   ------------------------------ --------- 3/4 [scikit-learn]\n",
      "   ------------------------------ --------- 3/4 [scikit-learn]\n",
      "   ------------------------------ --------- 3/4 [scikit-learn]\n",
      "   ------------------------------ --------- 3/4 [scikit-learn]\n",
      "   ------------------------------ --------- 3/4 [scikit-learn]\n",
      "   ------------------------------ --------- 3/4 [scikit-learn]\n",
      "   ------------------------------ --------- 3/4 [scikit-learn]\n",
      "   ------------------------------ --------- 3/4 [scikit-learn]\n",
      "   ------------------------------ --------- 3/4 [scikit-learn]\n",
      "   ------------------------------ --------- 3/4 [scikit-learn]\n",
      "   ------------------------------ --------- 3/4 [scikit-learn]\n",
      "   ------------------------------ --------- 3/4 [scikit-learn]\n",
      "   ------------------------------ --------- 3/4 [scikit-learn]\n",
      "   ---------------------------------------- 4/4 [scikit-learn]\n",
      "\n",
      "Successfully installed joblib-1.5.1 scikit-learn-1.7.0 scipy-1.16.0 threadpoolctl-3.6.0\n"
     ]
    }
   ],
   "source": [
    "#!pip install pandas # for roma\n",
    "#!pip install seaborn # for roma\n",
    "!pip install scikit-learn\n",
    "\n",
    "import pandas as pd\n",
    "import matplotlib.pyplot as plt\n",
    "import seaborn as sns\n",
    "from sklearn.preprocessing import LabelEncoder\n",
    "\n",
    "\n",
    "### Reading the csv file\n",
    "data = pd.read_csv(\"adult_income.csv\")"
   ]
  },
  {
   "cell_type": "code",
   "execution_count": 9,
   "id": "5dfc80eb-b887-476e-88c3-c9de0fa29b70",
   "metadata": {},
   "outputs": [
    {
     "data": {
      "text/html": [
       "<div>\n",
       "<style scoped>\n",
       "    .dataframe tbody tr th:only-of-type {\n",
       "        vertical-align: middle;\n",
       "    }\n",
       "\n",
       "    .dataframe tbody tr th {\n",
       "        vertical-align: top;\n",
       "    }\n",
       "\n",
       "    .dataframe thead th {\n",
       "        text-align: right;\n",
       "    }\n",
       "</style>\n",
       "<table border=\"1\" class=\"dataframe\">\n",
       "  <thead>\n",
       "    <tr style=\"text-align: right;\">\n",
       "      <th></th>\n",
       "      <th>age</th>\n",
       "      <th>workclass</th>\n",
       "      <th>fnlwgt</th>\n",
       "      <th>education</th>\n",
       "      <th>education.num</th>\n",
       "      <th>marital.status</th>\n",
       "      <th>occupation</th>\n",
       "      <th>relationship</th>\n",
       "      <th>race</th>\n",
       "      <th>sex</th>\n",
       "      <th>capital.gain</th>\n",
       "      <th>capital.loss</th>\n",
       "      <th>hours.per.week</th>\n",
       "      <th>native.country</th>\n",
       "      <th>income</th>\n",
       "    </tr>\n",
       "  </thead>\n",
       "  <tbody>\n",
       "    <tr>\n",
       "      <th>0</th>\n",
       "      <td>90</td>\n",
       "      <td>?</td>\n",
       "      <td>77053</td>\n",
       "      <td>HS-grad</td>\n",
       "      <td>9</td>\n",
       "      <td>Widowed</td>\n",
       "      <td>?</td>\n",
       "      <td>Not-in-family</td>\n",
       "      <td>White</td>\n",
       "      <td>Female</td>\n",
       "      <td>0</td>\n",
       "      <td>4356</td>\n",
       "      <td>40</td>\n",
       "      <td>United-States</td>\n",
       "      <td>&lt;=50K</td>\n",
       "    </tr>\n",
       "    <tr>\n",
       "      <th>1</th>\n",
       "      <td>82</td>\n",
       "      <td>Private</td>\n",
       "      <td>132870</td>\n",
       "      <td>HS-grad</td>\n",
       "      <td>9</td>\n",
       "      <td>Widowed</td>\n",
       "      <td>Exec-managerial</td>\n",
       "      <td>Not-in-family</td>\n",
       "      <td>White</td>\n",
       "      <td>Female</td>\n",
       "      <td>0</td>\n",
       "      <td>4356</td>\n",
       "      <td>18</td>\n",
       "      <td>United-States</td>\n",
       "      <td>&lt;=50K</td>\n",
       "    </tr>\n",
       "    <tr>\n",
       "      <th>2</th>\n",
       "      <td>66</td>\n",
       "      <td>?</td>\n",
       "      <td>186061</td>\n",
       "      <td>Some-college</td>\n",
       "      <td>10</td>\n",
       "      <td>Widowed</td>\n",
       "      <td>?</td>\n",
       "      <td>Unmarried</td>\n",
       "      <td>Black</td>\n",
       "      <td>Female</td>\n",
       "      <td>0</td>\n",
       "      <td>4356</td>\n",
       "      <td>40</td>\n",
       "      <td>United-States</td>\n",
       "      <td>&lt;=50K</td>\n",
       "    </tr>\n",
       "    <tr>\n",
       "      <th>3</th>\n",
       "      <td>54</td>\n",
       "      <td>Private</td>\n",
       "      <td>140359</td>\n",
       "      <td>7th-8th</td>\n",
       "      <td>4</td>\n",
       "      <td>Divorced</td>\n",
       "      <td>Machine-op-inspct</td>\n",
       "      <td>Unmarried</td>\n",
       "      <td>White</td>\n",
       "      <td>Female</td>\n",
       "      <td>0</td>\n",
       "      <td>3900</td>\n",
       "      <td>40</td>\n",
       "      <td>United-States</td>\n",
       "      <td>&lt;=50K</td>\n",
       "    </tr>\n",
       "    <tr>\n",
       "      <th>4</th>\n",
       "      <td>41</td>\n",
       "      <td>Private</td>\n",
       "      <td>264663</td>\n",
       "      <td>Some-college</td>\n",
       "      <td>10</td>\n",
       "      <td>Separated</td>\n",
       "      <td>Prof-specialty</td>\n",
       "      <td>Own-child</td>\n",
       "      <td>White</td>\n",
       "      <td>Female</td>\n",
       "      <td>0</td>\n",
       "      <td>3900</td>\n",
       "      <td>40</td>\n",
       "      <td>United-States</td>\n",
       "      <td>&lt;=50K</td>\n",
       "    </tr>\n",
       "  </tbody>\n",
       "</table>\n",
       "</div>"
      ],
      "text/plain": [
       "   age workclass  fnlwgt     education  education.num marital.status  \\\n",
       "0   90         ?   77053       HS-grad              9        Widowed   \n",
       "1   82   Private  132870       HS-grad              9        Widowed   \n",
       "2   66         ?  186061  Some-college             10        Widowed   \n",
       "3   54   Private  140359       7th-8th              4       Divorced   \n",
       "4   41   Private  264663  Some-college             10      Separated   \n",
       "\n",
       "          occupation   relationship   race     sex  capital.gain  \\\n",
       "0                  ?  Not-in-family  White  Female             0   \n",
       "1    Exec-managerial  Not-in-family  White  Female             0   \n",
       "2                  ?      Unmarried  Black  Female             0   \n",
       "3  Machine-op-inspct      Unmarried  White  Female             0   \n",
       "4     Prof-specialty      Own-child  White  Female             0   \n",
       "\n",
       "   capital.loss  hours.per.week native.country income  \n",
       "0          4356              40  United-States  <=50K  \n",
       "1          4356              18  United-States  <=50K  \n",
       "2          4356              40  United-States  <=50K  \n",
       "3          3900              40  United-States  <=50K  \n",
       "4          3900              40  United-States  <=50K  "
      ]
     },
     "execution_count": 9,
     "metadata": {},
     "output_type": "execute_result"
    }
   ],
   "source": [
    "data.head()"
   ]
  },
  {
   "cell_type": "code",
   "execution_count": 10,
   "id": "bef13719-4d75-4ee8-a43c-94dbf372bf66",
   "metadata": {},
   "outputs": [
    {
     "name": "stdout",
     "output_type": "stream",
     "text": [
      "                nan_count  question_mark_count  total_missing\n",
      "occupation              0                 1843           1843\n",
      "workclass               0                 1836           1836\n",
      "native.country          0                  583            583\n",
      "fnlwgt                  0                    0              0\n",
      "education               0                    0              0\n",
      "education.num           0                    0              0\n",
      "age                     0                    0              0\n",
      "marital.status          0                    0              0\n",
      "relationship            0                    0              0\n",
      "sex                     0                    0              0\n",
      "race                    0                    0              0\n",
      "capital.gain            0                    0              0\n",
      "capital.loss            0                    0              0\n",
      "hours.per.week          0                    0              0\n",
      "income                  0                    0              0\n"
     ]
    }
   ],
   "source": [
    "########## Trying to look at the condition of the data ##########\n",
    "# Count of NaNs\n",
    "missing_counts = data.isnull().sum()\n",
    "\n",
    "# Count of \"?\" as missing indicator\n",
    "question_mark_counts = (data == '?').sum()\n",
    "\n",
    "# Combine into a DataFrame\n",
    "missing_summary = pd.DataFrame({\n",
    "    'nan_count': missing_counts,\n",
    "    'question_mark_count': question_mark_counts\n",
    "})\n",
    "\n",
    "# Sort by total missing (NaN + \"?\")\n",
    "missing_summary['total_missing'] = missing_summary['nan_count'] + missing_summary['question_mark_count']\n",
    "missing_summary = missing_summary.sort_values(by='total_missing', ascending=False)\n",
    "\n",
    "print(missing_summary)"
   ]
  },
  {
   "cell_type": "code",
   "execution_count": 11,
   "id": "400de0ee-ff50-43dd-a651-430e38f9b568",
   "metadata": {},
   "outputs": [
    {
     "name": "stdout",
     "output_type": "stream",
     "text": [
      "occupation: ['?' 'Exec-managerial' 'Machine-op-inspct' 'Prof-specialty'\n",
      " 'Other-service' 'Adm-clerical' 'Craft-repair' 'Transport-moving'\n",
      " 'Handlers-cleaners' 'Sales' 'Farming-fishing' 'Tech-support'\n",
      " 'Protective-serv' 'Armed-Forces' 'Priv-house-serv']\n"
     ]
    }
   ],
   "source": [
    "### Checking all Data columns uniques values\n",
    "print(\"occupation:\", data['occupation'].unique())"
   ]
  },
  {
   "cell_type": "code",
   "execution_count": 34,
   "id": "af9e9549-e360-42ce-87bc-378db7a9ef50",
   "metadata": {},
   "outputs": [
    {
     "name": "stdout",
     "output_type": "stream",
     "text": [
      "workclass: ['?' 'Private' 'State-gov' 'Federal-gov' 'Self-emp-not-inc' 'Self-emp-inc'\n",
      " 'Local-gov' 'Without-pay' 'Never-worked']\n"
     ]
    }
   ],
   "source": [
    "print(\"workclass:\", data['workclass'].unique())"
   ]
  },
  {
   "cell_type": "code",
   "execution_count": 13,
   "id": "5b66f74e-1ffd-48d2-a3f9-8f0bcb40dcf2",
   "metadata": {},
   "outputs": [
    {
     "name": "stdout",
     "output_type": "stream",
     "text": [
      "education: ['HS-grad' 'Some-college' '7th-8th' '10th' 'Doctorate' 'Prof-school'\n",
      " 'Bachelors' 'Masters' '11th' 'Assoc-acdm' 'Assoc-voc' '1st-4th' '5th-6th'\n",
      " '12th' '9th' 'Preschool']\n"
     ]
    }
   ],
   "source": [
    "print(\"education:\", data['education'].unique())"
   ]
  },
  {
   "cell_type": "code",
   "execution_count": 14,
   "id": "20e0f509-42a1-4273-a7b5-5ac0f4de86ab",
   "metadata": {},
   "outputs": [
    {
     "name": "stdout",
     "output_type": "stream",
     "text": [
      "education.num': [ 9 10  4  6 16 15 13 14  7 12 11  2  3  8  5  1]\n"
     ]
    }
   ],
   "source": [
    "print(\"education.num':\", data['education.num'].unique())"
   ]
  },
  {
   "cell_type": "code",
   "execution_count": 15,
   "id": "6910d87f-12e5-4585-b2d6-e516aee6e265",
   "metadata": {},
   "outputs": [
    {
     "name": "stdout",
     "output_type": "stream",
     "text": [
      "relationship: ['Not-in-family' 'Unmarried' 'Own-child' 'Other-relative' 'Husband' 'Wife']\n"
     ]
    }
   ],
   "source": [
    "print(\"relationship:\", data['relationship'].unique())"
   ]
  },
  {
   "cell_type": "code",
   "execution_count": 16,
   "id": "094323c2-c57c-473c-891c-aafbe568fef9",
   "metadata": {},
   "outputs": [
    {
     "name": "stdout",
     "output_type": "stream",
     "text": [
      "marital.status: ['Widowed' 'Divorced' 'Separated' 'Never-married' 'Married-civ-spouse'\n",
      " 'Married-spouse-absent' 'Married-AF-spouse']\n"
     ]
    }
   ],
   "source": [
    "print(\"marital.status:\", data['marital.status'].unique())"
   ]
  },
  {
   "cell_type": "code",
   "execution_count": 17,
   "id": "9b9d428a-ff81-4147-8f3c-a5747a4683fd",
   "metadata": {},
   "outputs": [
    {
     "name": "stdout",
     "output_type": "stream",
     "text": [
      "race: ['White' 'Black' 'Asian-Pac-Islander' 'Other' 'Amer-Indian-Eskimo']\n"
     ]
    }
   ],
   "source": [
    "print(\"race:\", data['race'].unique())"
   ]
  },
  {
   "cell_type": "code",
   "execution_count": 18,
   "id": "fd995498-22ff-4796-98b7-d1dbd7ced64e",
   "metadata": {},
   "outputs": [
    {
     "name": "stdout",
     "output_type": "stream",
     "text": [
      "sex: ['Female' 'Male']\n"
     ]
    }
   ],
   "source": [
    "print(\"sex:\", data['sex'].unique())"
   ]
  },
  {
   "cell_type": "code",
   "execution_count": 19,
   "id": "d3b044d7-fed8-4f2e-b79f-359affc91542",
   "metadata": {},
   "outputs": [
    {
     "name": "stdout",
     "output_type": "stream",
     "text": [
      "capital.gain: [    0 99999 41310 34095 27828 25236 25124 22040 20051 18481 15831 15024\n",
      " 15020 14344 14084 13550 11678 10605 10566 10520  9562  9386  8614  7978\n",
      "  7896  7688  7443  7430  7298  6849  6767  6723  6514  6497  6418  6360\n",
      "  6097  5721  5556  5455  5178  5060  5013  4934  4931  4865  4787  4687\n",
      "  4650  4508  4416  4386  4101  4064  3942  3908  3887  3818  3781  3674\n",
      "  3471  3464  3456  3432  3418  3411  3325  3273  3137  3103  2993  2977\n",
      "  2964  2961  2936  2907  2885  2829  2653  2635  2597  2580  2538  2463\n",
      "  2414  2407  2387  2354  2346  2329  2290  2228  2202  2176  2174  2105\n",
      "  2062  2050  2036  2009  1848  1831  1797  1639  1506  1471  1455  1424\n",
      "  1409  1173  1151  1111  1086  1055   991   914   594   401   114]\n"
     ]
    }
   ],
   "source": [
    "print(\"capital.gain:\", data['capital.gain'].unique())"
   ]
  },
  {
   "cell_type": "code",
   "execution_count": 20,
   "id": "287e7005-19fe-4027-bba6-139bacc5546e",
   "metadata": {},
   "outputs": [
    {
     "name": "stdout",
     "output_type": "stream",
     "text": [
      "capital.loss: [4356 3900 3770 3683 3004 2824 2754 2603 2559 2547 2489 2472 2467 2457\n",
      " 2444 2415 2392 2377 2352 2339 2282 2267 2258 2246 2238 2231 2206 2205\n",
      " 2201 2179 2174 2163 2149 2129 2080 2057 2051 2042 2002 2001 1980 1977\n",
      " 1974 1944 1902 1887 1876 1848 1844 1825 1816 1762 1755 1741 1740 1735\n",
      " 1726 1721 1719 1672 1669 1668 1651 1648 1628 1617 1602 1594 1590 1579\n",
      " 1573 1564 1539 1504 1485 1411 1408 1380 1340 1258 1138 1092  974  880\n",
      "  810  653  625  419  323  213  155    0]\n"
     ]
    }
   ],
   "source": [
    "print(\"capital.loss:\", data['capital.loss'].unique())"
   ]
  },
  {
   "cell_type": "code",
   "execution_count": 21,
   "id": "ce263870-2585-4b98-a131-92c5a2e1581c",
   "metadata": {},
   "outputs": [
    {
     "name": "stdout",
     "output_type": "stream",
     "text": [
      "hours.per.week: [40 18 45 20 60 35 55 76 50 42 25 32 90 48 15 70 52 72 39  6 65 12 80 67\n",
      " 99 30 75 26 36 10 84 38 62 44  8 28 59  5 24 57 34 37 46 56 41 98 43 63\n",
      "  1 47 68 54  2 16  9  3  4 33 23 22 64 51 19 58 53 96 66 21  7 13 27 11\n",
      " 14 77 31 78 49 17 85 87 88 73 89 97 94 29 82 86 91 81 92 61 74 95]\n"
     ]
    }
   ],
   "source": [
    "print(\"hours.per.week:\", data['hours.per.week'].unique())"
   ]
  },
  {
   "cell_type": "code",
   "execution_count": 22,
   "id": "ab7252c8-2e91-48d3-a69b-d6e46eca5038",
   "metadata": {},
   "outputs": [
    {
     "name": "stdout",
     "output_type": "stream",
     "text": [
      "native.country: ['United-States' '?' 'Mexico' 'Greece' 'Vietnam' 'China' 'Taiwan' 'India'\n",
      " 'Philippines' 'Trinadad&Tobago' 'Canada' 'South' 'Holand-Netherlands'\n",
      " 'Puerto-Rico' 'Poland' 'Iran' 'England' 'Germany' 'Italy' 'Japan' 'Hong'\n",
      " 'Honduras' 'Cuba' 'Ireland' 'Cambodia' 'Peru' 'Nicaragua'\n",
      " 'Dominican-Republic' 'Haiti' 'El-Salvador' 'Hungary' 'Columbia'\n",
      " 'Guatemala' 'Jamaica' 'Ecuador' 'France' 'Yugoslavia' 'Scotland'\n",
      " 'Portugal' 'Laos' 'Thailand' 'Outlying-US(Guam-USVI-etc)']\n"
     ]
    }
   ],
   "source": [
    "print(\"native.country:\", data['native.country'].unique())"
   ]
  },
  {
   "cell_type": "code",
   "execution_count": 23,
   "id": "e6ba6a7c-e73f-4758-9487-68d79fbd4568",
   "metadata": {},
   "outputs": [
    {
     "name": "stdout",
     "output_type": "stream",
     "text": [
      "income: ['<=50K' '>50K']\n"
     ]
    }
   ],
   "source": [
    "print(\"income:\", data['income'].unique())"
   ]
  },
  {
   "cell_type": "code",
   "execution_count": 24,
   "id": "f73f65bb-1a64-4a25-ab33-7fa0937859cc",
   "metadata": {},
   "outputs": [
    {
     "name": "stdout",
     "output_type": "stream",
     "text": [
      "age: [90 82 66 54 41 34 38 74 68 45 52 32 51 46 57 22 37 29 61 21 33 49 23 59\n",
      " 60 63 53 44 43 71 48 73 67 40 50 42 39 55 47 31 58 62 36 72 78 83 26 70\n",
      " 27 35 81 65 25 28 56 69 20 30 24 64 75 19 77 80 18 17 76 79 88 84 85 86\n",
      " 87]\n"
     ]
    }
   ],
   "source": [
    "print(\"age:\", data['age'].unique())"
   ]
  },
  {
   "cell_type": "code",
   "execution_count": 25,
   "id": "fbe32c57-c56c-4800-a9af-2a696c2c0ee0",
   "metadata": {},
   "outputs": [
    {
     "name": "stdout",
     "output_type": "stream",
     "text": [
      "       age         workclass  fnlwgt     education  education.num  \\\n",
      "8453    25           Private  308144     Bachelors             13   \n",
      "8645    90           Private   52386  Some-college             10   \n",
      "12202   21           Private  250051  Some-college             10   \n",
      "14346   20           Private  107658  Some-college             10   \n",
      "15603   25           Private  195994       1st-4th              2   \n",
      "17344   21           Private  243368     Preschool              1   \n",
      "19067   46           Private  173243       HS-grad              9   \n",
      "20388   30           Private  144593       HS-grad              9   \n",
      "20507   19           Private   97261       HS-grad              9   \n",
      "22783   19           Private  138153  Some-college             10   \n",
      "22934   19           Private  146679  Some-college             10   \n",
      "23276   49           Private   31267       7th-8th              4   \n",
      "23660   25           Private  195994       1st-4th              2   \n",
      "23720   44           Private  367749     Bachelors             13   \n",
      "23827   49  Self-emp-not-inc   43479  Some-college             10   \n",
      "26738   23           Private  240137       5th-6th              3   \n",
      "27133   28           Private  274679       Masters             14   \n",
      "28796   27           Private  255582       HS-grad              9   \n",
      "29051   42           Private  204235  Some-college             10   \n",
      "29334   39           Private   30916       HS-grad              9   \n",
      "29604   38           Private  207202       HS-grad              9   \n",
      "31060   46           Private  133616  Some-college             10   \n",
      "32065   19           Private  251579  Some-college             10   \n",
      "32419   35           Private  379959       HS-grad              9   \n",
      "\n",
      "           marital.status         occupation   relationship  \\\n",
      "8453        Never-married       Craft-repair  Not-in-family   \n",
      "8645        Never-married      Other-service  Not-in-family   \n",
      "12202       Never-married     Prof-specialty      Own-child   \n",
      "14346       Never-married       Tech-support  Not-in-family   \n",
      "15603       Never-married    Priv-house-serv  Not-in-family   \n",
      "17344       Never-married    Farming-fishing  Not-in-family   \n",
      "19067  Married-civ-spouse       Craft-repair        Husband   \n",
      "20388       Never-married      Other-service  Not-in-family   \n",
      "20507       Never-married    Farming-fishing  Not-in-family   \n",
      "22783       Never-married       Adm-clerical      Own-child   \n",
      "22934       Never-married    Exec-managerial      Own-child   \n",
      "23276  Married-civ-spouse       Craft-repair        Husband   \n",
      "23660       Never-married    Priv-house-serv  Not-in-family   \n",
      "23720       Never-married     Prof-specialty  Not-in-family   \n",
      "23827  Married-civ-spouse       Craft-repair        Husband   \n",
      "26738       Never-married  Handlers-cleaners  Not-in-family   \n",
      "27133       Never-married     Prof-specialty  Not-in-family   \n",
      "28796       Never-married  Machine-op-inspct  Not-in-family   \n",
      "29051  Married-civ-spouse     Prof-specialty        Husband   \n",
      "29334  Married-civ-spouse       Craft-repair        Husband   \n",
      "29604  Married-civ-spouse  Machine-op-inspct        Husband   \n",
      "31060            Divorced       Adm-clerical      Unmarried   \n",
      "32065       Never-married      Other-service      Own-child   \n",
      "32419            Divorced      Other-service  Not-in-family   \n",
      "\n",
      "                     race     sex  capital.gain  capital.loss  hours.per.week  \\\n",
      "8453                White    Male             0             0              40   \n",
      "8645   Asian-Pac-Islander    Male             0             0              35   \n",
      "12202               White  Female             0             0              10   \n",
      "14346               White  Female             0             0              10   \n",
      "15603               White  Female             0             0              40   \n",
      "17344               White    Male             0             0              50   \n",
      "19067               White    Male             0             0              40   \n",
      "20388               Black    Male             0             0              40   \n",
      "20507               White    Male             0             0              40   \n",
      "22783               White  Female             0             0              10   \n",
      "22934               Black    Male             0             0              30   \n",
      "23276               White    Male             0             0              40   \n",
      "23660               White  Female             0             0              40   \n",
      "23720               White  Female             0             0              45   \n",
      "23827               White    Male             0             0              40   \n",
      "26738               White    Male             0             0              55   \n",
      "27133               White    Male             0             0              50   \n",
      "28796               White  Female             0             0              40   \n",
      "29051               White    Male             0             0              40   \n",
      "29334               White    Male             0             0              40   \n",
      "29604               White    Male             0             0              48   \n",
      "31060               White  Female             0             0              40   \n",
      "32065               White    Male             0             0              14   \n",
      "32419               White  Female             0             0              40   \n",
      "\n",
      "      native.country income  \n",
      "8453          Mexico  <=50K  \n",
      "8645   United-States  <=50K  \n",
      "12202  United-States  <=50K  \n",
      "14346  United-States  <=50K  \n",
      "15603      Guatemala  <=50K  \n",
      "17344         Mexico  <=50K  \n",
      "19067  United-States  <=50K  \n",
      "20388              ?  <=50K  \n",
      "20507  United-States  <=50K  \n",
      "22783  United-States  <=50K  \n",
      "22934  United-States  <=50K  \n",
      "23276  United-States  <=50K  \n",
      "23660      Guatemala  <=50K  \n",
      "23720         Mexico  <=50K  \n",
      "23827  United-States  <=50K  \n",
      "26738         Mexico  <=50K  \n",
      "27133  United-States  <=50K  \n",
      "28796  United-States  <=50K  \n",
      "29051  United-States   >50K  \n",
      "29334  United-States  <=50K  \n",
      "29604  United-States   >50K  \n",
      "31060  United-States  <=50K  \n",
      "32065  United-States  <=50K  \n",
      "32419  United-States  <=50K  \n",
      "Number of duplicate rows: 24\n"
     ]
    }
   ],
   "source": [
    "#### Finding duplicate rows\n",
    "duplicates = data[data.duplicated()]\n",
    "print(duplicates)\n",
    "num_duplicates = data.duplicated().sum()\n",
    "print(f\"Number of duplicate rows: {num_duplicates}\")"
   ]
  },
  {
   "cell_type": "code",
   "execution_count": 26,
   "id": "7715560d-1654-4a80-a36b-f26ed0098fa5",
   "metadata": {},
   "outputs": [
    {
     "data": {
      "image/png": "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",
      "text/plain": [
       "<Figure size 600x400 with 1 Axes>"
      ]
     },
     "metadata": {},
     "output_type": "display_data"
    },
    {
     "data": {
      "image/png": "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",
      "text/plain": [
       "<Figure size 600x400 with 1 Axes>"
      ]
     },
     "metadata": {},
     "output_type": "display_data"
    },
    {
     "data": {
      "image/png": "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",
      "text/plain": [
       "<Figure size 600x400 with 1 Axes>"
      ]
     },
     "metadata": {},
     "output_type": "display_data"
    },
    {
     "data": {
      "image/png": "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",
      "text/plain": [
       "<Figure size 600x400 with 1 Axes>"
      ]
     },
     "metadata": {},
     "output_type": "display_data"
    },
    {
     "data": {
      "image/png": "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",
      "text/plain": [
       "<Figure size 600x400 with 1 Axes>"
      ]
     },
     "metadata": {},
     "output_type": "display_data"
    },
    {
     "data": {
      "image/png": "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",
      "text/plain": [
       "<Figure size 600x400 with 1 Axes>"
      ]
     },
     "metadata": {},
     "output_type": "display_data"
    }
   ],
   "source": [
    "# List of typical integer variables in Adult dataset\n",
    "int_columns = ['age', 'fnlwgt', 'education.num', 'capital.gain', 'capital.loss', 'hours.per.week']\n",
    "\n",
    "# Check which columns actually exist in your dataframe\n",
    "existing_int_columns = [col for col in int_columns if col in data.columns]\n",
    "\n",
    "# Plot each boxplot separately\n",
    "for col in existing_int_columns:\n",
    "    plt.figure(figsize=(6, 4))\n",
    "    sns.boxplot(y=data[col])\n",
    "    plt.title(f'Boxplot of {col}')\n",
    "    plt.ylabel(col)\n",
    "    plt.show()"
   ]
  },
  {
   "cell_type": "code",
   "execution_count": 27,
   "id": "f9b0719a-ac3a-4796-9e03-3c1bc016efd4",
   "metadata": {},
   "outputs": [],
   "source": [
    "########## Pre-processing steps starts from here ##########\n",
    "\n",
    "### 1. Removing duplicate rows\n",
    "df_adult_income = data.drop_duplicates()\n"
   ]
  },
  {
   "cell_type": "code",
   "execution_count": 28,
   "id": "77097745-a04a-417d-ad3d-0d7a5ecf439f",
   "metadata": {},
   "outputs": [],
   "source": [
    "### 2. Renaming the column name 'fnlwgt' to a better name for clear understanding \n",
    "df_adult_income = df_adult_income.rename(columns={'fnlwgt': 'population_weight'})"
   ]
  },
  {
   "cell_type": "code",
   "execution_count": 29,
   "id": "de530bbf-9373-461d-b696-8d5ab589871d",
   "metadata": {},
   "outputs": [],
   "source": [
    "### 3. Renaming the column name 'education.num' to a better name for clear understanding \n",
    "df_adult_income = df_adult_income.rename(columns={'education.num': 'years.of.education'})"
   ]
  },
  {
   "cell_type": "code",
   "execution_count": 30,
   "id": "ec9f679b-b936-4460-9317-24982a04e782",
   "metadata": {},
   "outputs": [],
   "source": [
    "### 4. Completing the country names for better understanding \n",
    "df_adult_income['native.country'] = df_adult_income['native.country'].replace('South', 'South-Korea')\n",
    "df_adult_income['native.country'] = df_adult_income['native.country'].replace('Hong', 'Hong-Kong')"
   ]
  },
  {
   "cell_type": "code",
   "execution_count": 31,
   "id": "4be62510-83c1-4778-b6aa-6daa957e0ed6",
   "metadata": {},
   "outputs": [],
   "source": [
    "### 5. Randomly modifying the column 'sex' values and then trying to fix them. \n",
    "sample_indices = df_adult_income.sample(n=2000, random_state=42).index\n",
    "df_adult_income.loc[sample_indices, 'sex'] = df_adult_income.loc[sample_indices, 'sex'].replace({'Male': 'M', 'Female': 'F'})\n",
    "df_adult_income['sex'] = df_adult_income['sex'].replace({'M': 'Male', 'F': 'Female'})\n"
   ]
  },
  {
   "cell_type": "code",
   "execution_count": 32,
   "id": "2d8c7c47-b873-4116-8d39-9523cba9fff2",
   "metadata": {},
   "outputs": [
    {
     "name": "stdout",
     "output_type": "stream",
     "text": [
      "Number of rows with country = '?': 582\n"
     ]
    }
   ],
   "source": [
    "### 6. Removing country rows where values are null\n",
    "# Count rows where country == '?'\n",
    "num_question_mark = (df_adult_income['native.country'] == '?').sum()\n",
    "print(f\"Number of rows with country = '?': {num_question_mark}\")"
   ]
  },
  {
   "cell_type": "code",
   "execution_count": 33,
   "id": "bfc128a1-f9fa-43c7-8337-d285fbfac9ef",
   "metadata": {},
   "outputs": [
    {
     "name": "stdout",
     "output_type": "stream",
     "text": [
      "Shape after removing '?': (31955, 15)\n"
     ]
    }
   ],
   "source": [
    "### 7. Keep only rows where country is not '?'\n",
    "df_adult_income= df_adult_income[df_adult_income['native.country'] != '?']\n",
    "print(f\"Shape after removing '?': {df_adult_income.shape}\")"
   ]
  },
  {
   "cell_type": "code",
   "execution_count": 37,
   "id": "f356f3fe-f41a-48c5-bed1-c124235935d4",
   "metadata": {},
   "outputs": [],
   "source": [
    "### 8. Create and add a new column capital_diff as the difference between capital-gain and capital-loss\n",
    "df_adult_income['capital_diff'] = df_adult_income['capital.gain'] - df_adult_income['capital.loss']"
   ]
  },
  {
   "cell_type": "code",
   "execution_count": 42,
   "id": "73b890ef-5f0c-4426-9a34-fc3cf7748756",
   "metadata": {},
   "outputs": [
    {
     "name": "stdout",
     "output_type": "stream",
     "text": [
      "   age workclass  population_weight     education  years.of.education  \\\n",
      "0   90         ?              77053       HS-grad                   9   \n",
      "1   82   Private             132870       HS-grad                   9   \n",
      "2   66         ?             186061  Some-college                  10   \n",
      "3   54   Private             140359       7th-8th                   4   \n",
      "4   41   Private             264663  Some-college                  10   \n",
      "\n",
      "  marital.status         occupation   relationship   race     sex  ...  \\\n",
      "0        Widowed                  ?  Not-in-family  White  Female  ...   \n",
      "1        Widowed    Exec-managerial  Not-in-family  White  Female  ...   \n",
      "2        Widowed                  ?      Unmarried  Black  Female  ...   \n",
      "3       Divorced  Machine-op-inspct      Unmarried  White  Female  ...   \n",
      "4      Separated     Prof-specialty      Own-child  White  Female  ...   \n",
      "\n",
      "   native.country  income  capital_diff education_encoded  \\\n",
      "0   United-States   <=50K         -4356                11   \n",
      "1   United-States   <=50K         -4356                11   \n",
      "2   United-States   <=50K         -4356                15   \n",
      "3   United-States   <=50K         -3900                 5   \n",
      "4   United-States   <=50K         -3900                15   \n",
      "\n",
      "  marital.status_encoded  relationship_encoded  race_encoded  sex_encoded  \\\n",
      "0                      6                     1             4            0   \n",
      "1                      6                     1             4            0   \n",
      "2                      6                     4             2            0   \n",
      "3                      0                     4             4            0   \n",
      "4                      5                     3             4            0   \n",
      "\n",
      "   native.country_encoded  income_encoded  \n",
      "0                      38               0  \n",
      "1                      38               0  \n",
      "2                      38               0  \n",
      "3                      38               0  \n",
      "4                      38               0  \n",
      "\n",
      "[5 rows x 23 columns]\n"
     ]
    }
   ],
   "source": [
    "### 9. Encoding columns, skipping workclass and occupation\n",
    "cols_to_encode = ['education', 'marital.status', 'relationship', 'race', 'sex', 'native.country', 'income']\n",
    "\n",
    "# Initialize LabelEncoder\n",
    "le = LabelEncoder()\n",
    "\n",
    "# Encode each column and create a new column with suffix '_encoded'\n",
    "for col in cols_to_encode:\n",
    "    df_adult_income[col + '_encoded'] = le.fit_transform(df_adult_income[col])\n",
    "\n",
    "# Display the first few rows to verify\n",
    "print(df_adult_income.head())\n"
   ]
  },
  {
   "cell_type": "code",
   "execution_count": 43,
   "id": "f1603b06-52f3-4820-816d-29ce7b549b3a",
   "metadata": {},
   "outputs": [
    {
     "name": "stdout",
     "output_type": "stream",
     "text": [
      "   education_encoded  marital.status_encoded  relationship_encoded  \\\n",
      "0                 11                       6                     1   \n",
      "1                 11                       6                     1   \n",
      "2                 15                       6                     4   \n",
      "3                  5                       0                     4   \n",
      "4                 15                       5                     3   \n",
      "\n",
      "   race_encoded  sex_encoded  native.country_encoded  income_encoded  \n",
      "0             4            0                      38               0  \n",
      "1             4            0                      38               0  \n",
      "2             2            0                      38               0  \n",
      "3             4            0                      38               0  \n",
      "4             4            0                      38               0  \n"
     ]
    }
   ],
   "source": [
    "# Select only columns ending with '_encoded'\n",
    "encoded_columns = [col for col in df_adult_income.columns if col.endswith('_encoded')]\n",
    "\n",
    "# Display those columns\n",
    "print(df_adult_income[encoded_columns].head())\n"
   ]
  },
  {
   "cell_type": "code",
   "execution_count": null,
=======
   "execution_count": 37,
   "id": "f356f3fe-f41a-48c5-bed1-c124235935d4",
   "metadata": {},
   "outputs": [],
   "source": [
    "### 10. Normalising the columns\n",
    "df_adult_income_scaled = df_adult_income.copy()\n",
    "\n",
    "# Applying log1p (log(x+1)) to skewed variables\n",
    "df_adult_income_scaled['population.weight'] = np.log1p(df_adult_income_scaled['population.weight'])\n",
    "df_adult_income_scaled['capital.gain'] = np.log1p(df_adult_income_scaled['capital.gain'])\n",
    "df_adult_income_scaled['capital.loss'] = np.log1p(df_adult_income_scaled['capital.loss'])\n",
    "\n",
    "# List of columns to standardize\n",
    "cols_to_scale = ['age', 'population.weight', 'years.of.education', 'capital.gain', 'capital.loss', 'hours.per.week']\n",
    "\n",
    "# Using StandardScaler to make mean=0, std=1\n",
    "scaler = StandardScaler()\n",
    "df_adult_income_scaled[cols_to_scale] = scaler.fit_transform(df_adult_income_scaled[cols_to_scale])"
   ]
=======
    "## Create a new column capital_diff as the difference between capital-gain and capital-loss\n",
    "##ROMA\n",
    "\n",
    "df_adult_income['capital_diff'] = df_adult_income['capital.gain'] - df_adult_income['capital.loss']\n"
   ]
  },
  {
   "cell_type": "code",
   "execution_count": 42,
   "id": "73b890ef-5f0c-4426-9a34-fc3cf7748756",
   "metadata": {},
   "outputs": [
    {
     "name": "stdout",
     "output_type": "stream",
     "text": [
      "   age workclass  population_weight     education  years.of.education  \\\n",
      "0   90         ?              77053       HS-grad                   9   \n",
      "1   82   Private             132870       HS-grad                   9   \n",
      "2   66         ?             186061  Some-college                  10   \n",
      "3   54   Private             140359       7th-8th                   4   \n",
      "4   41   Private             264663  Some-college                  10   \n",
      "\n",
      "  marital.status         occupation   relationship   race     sex  ...  \\\n",
      "0        Widowed                  ?  Not-in-family  White  Female  ...   \n",
      "1        Widowed    Exec-managerial  Not-in-family  White  Female  ...   \n",
      "2        Widowed                  ?      Unmarried  Black  Female  ...   \n",
      "3       Divorced  Machine-op-inspct      Unmarried  White  Female  ...   \n",
      "4      Separated     Prof-specialty      Own-child  White  Female  ...   \n",
      "\n",
      "   native.country  income  capital_diff education_encoded  \\\n",
      "0   United-States   <=50K         -4356                11   \n",
      "1   United-States   <=50K         -4356                11   \n",
      "2   United-States   <=50K         -4356                15   \n",
      "3   United-States   <=50K         -3900                 5   \n",
      "4   United-States   <=50K         -3900                15   \n",
      "\n",
      "  marital.status_encoded  relationship_encoded  race_encoded  sex_encoded  \\\n",
      "0                      6                     1             4            0   \n",
      "1                      6                     1             4            0   \n",
      "2                      6                     4             2            0   \n",
      "3                      0                     4             4            0   \n",
      "4                      5                     3             4            0   \n",
      "\n",
      "   native.country_encoded  income_encoded  \n",
      "0                      38               0  \n",
      "1                      38               0  \n",
      "2                      38               0  \n",
      "3                      38               0  \n",
      "4                      38               0  \n",
      "\n",
      "[5 rows x 23 columns]\n"
     ]
    }
   ],
   "source": [
    "\n",
    "#ROMA\n",
    "# Add the capital_diff column\n",
    "df_adult_income['capital_diff'] = df_adult_income['capital.gain'] - df_adult_income['capital.loss']\n",
    "\n",
    "# Columns to encode, skipping workclass and occupation\n",
    "cols_to_encode = ['education', 'marital.status', 'relationship', 'race', 'sex', 'native.country', 'income']\n",
    "\n",
    "# Initialize LabelEncoder\n",
    "le = LabelEncoder()\n",
    "\n",
    "# Encode each column and create a new column with suffix '_encoded'\n",
    "for col in cols_to_encode:\n",
    "    df_adult_income[col + '_encoded'] = le.fit_transform(df_adult_income[col])\n",
    "\n",
    "# Display the first few rows to verify\n",
    "print(df_adult_income.head())\n"
   ]
  },
  {
   "cell_type": "code",
   "execution_count": 43,
   "id": "f1603b06-52f3-4820-816d-29ce7b549b3a",
   "metadata": {},
   "outputs": [
    {
     "name": "stdout",
     "output_type": "stream",
     "text": [
      "   education_encoded  marital.status_encoded  relationship_encoded  \\\n",
      "0                 11                       6                     1   \n",
      "1                 11                       6                     1   \n",
      "2                 15                       6                     4   \n",
      "3                  5                       0                     4   \n",
      "4                 15                       5                     3   \n",
      "\n",
      "   race_encoded  sex_encoded  native.country_encoded  income_encoded  \n",
      "0             4            0                      38               0  \n",
      "1             4            0                      38               0  \n",
      "2             2            0                      38               0  \n",
      "3             4            0                      38               0  \n",
      "4             4            0                      38               0  \n"
     ]
    }
   ],
   "source": [
    "# Select only columns ending with '_encoded'\n",
    "encoded_columns = [col for col in df_adult_income.columns if col.endswith('_encoded')]\n",
    "\n",
    "# Display those columns\n",
    "print(df_adult_income[encoded_columns].head())\n"
   ]
  },
  {
   "cell_type": "code",
   "execution_count": null,
   "id": "ebda65f9-dac9-4188-8bde-b959ea16e746",
   "metadata": {},
   "outputs": [],
   "source": []
  }
 ],
 "metadata": {
  "kernelspec": {
   "display_name": "Python 3 (ipykernel)",
   "language": "python",
   "name": "python3"
  },
  "language_info": {
   "codemirror_mode": {
    "name": "ipython",
    "version": 3
   },
   "file_extension": ".py",
   "mimetype": "text/x-python",
   "name": "python",
   "nbconvert_exporter": "python",
   "pygments_lexer": "ipython3",
   "version": "3.11.9"
   "version": "3.12.4"
   "version": "3.12.4"
   "version": "3.13.5"
  }
 },
 "nbformat": 4,
 "nbformat_minor": 5
}
